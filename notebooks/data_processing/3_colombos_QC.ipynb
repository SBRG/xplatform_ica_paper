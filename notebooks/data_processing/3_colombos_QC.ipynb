{
 "cells": [
  {
   "cell_type": "markdown",
   "metadata": {
    "toc": true
   },
   "source": [
    "<h1>Table of Contents<span class=\"tocSkip\"></span></h1>\n",
    "<div class=\"toc\"><ul class=\"toc-item\"><li><span><a href=\"#Load-Data\" data-toc-modified-id=\"Load-Data-1\"><span class=\"toc-item-num\">1&nbsp;&nbsp;</span>Load Data</a></span></li><li><span><a href=\"#Create-metadata-sheet\" data-toc-modified-id=\"Create-metadata-sheet-2\"><span class=\"toc-item-num\">2&nbsp;&nbsp;</span>Create metadata sheet</a></span></li><li><span><a href=\"#Get-annotations\" data-toc-modified-id=\"Get-annotations-3\"><span class=\"toc-item-num\">3&nbsp;&nbsp;</span>Get annotations</a></span></li><li><span><a href=\"#Remove-reference-conditions\" data-toc-modified-id=\"Remove-reference-conditions-4\"><span class=\"toc-item-num\">4&nbsp;&nbsp;</span>Remove reference conditions</a></span></li><li><span><a href=\"#Check-data-quality\" data-toc-modified-id=\"Check-data-quality-5\"><span class=\"toc-item-num\">5&nbsp;&nbsp;</span>Check data quality</a></span></li><li><span><a href=\"#Check-replicate-correlations\" data-toc-modified-id=\"Check-replicate-correlations-6\"><span class=\"toc-item-num\">6&nbsp;&nbsp;</span>Check replicate correlations</a></span></li><li><span><a href=\"#Final-touches\" data-toc-modified-id=\"Final-touches-7\"><span class=\"toc-item-num\">7&nbsp;&nbsp;</span>Final touches</a></span></li></ul></div>"
   ]
  },
  {
   "cell_type": "code",
   "execution_count": 1,
   "metadata": {},
   "outputs": [],
   "source": [
    "import pandas as pd\n",
    "import matplotlib.pyplot as plt\n",
    "from tqdm import tqdm_notebook as tqdm\n",
    "import itertools\n",
    "import os"
   ]
  },
  {
   "cell_type": "markdown",
   "metadata": {},
   "source": [
    "# Load Data"
   ]
  },
  {
   "cell_type": "code",
   "execution_count": 2,
   "metadata": {},
   "outputs": [],
   "source": [
    "# Load dataset\n",
    "DATA_DIR='../../data/'\n",
    "DF_data = pd.read_csv(os.path.join(DATA_DIR,'ecoli_compendium_data/colombos_ecoli_exprdata_20151029.txt'),sep='\\t',skiprows=6,index_col=0)\n",
    "DF_data = DF_data.drop(['Gene name','Geneid/Contrast_id'],axis=1)"
   ]
  },
  {
   "cell_type": "code",
   "execution_count": 3,
   "metadata": {},
   "outputs": [],
   "source": [
    "# Add original column names\n",
    "colnames = pd.read_csv(os.path.join(DATA_DIR,'ecoli_compendium_data/colombos_ecoli_exprdata_20151029.txt'),\n",
    "                       sep='\\t',skiprows=1,nrows=1,header=None)\n",
    "colnames = colnames.loc[0].values[3:-1]"
   ]
  },
  {
   "cell_type": "code",
   "execution_count": 4,
   "metadata": {},
   "outputs": [],
   "source": [
    "DF_labels = pd.read_csv(os.path.join(DATA_DIR,'ecoli_compendium_data/colombos_ecoli_exprdata_20151029.txt'),sep='\\t',nrows=3,header=None).T"
   ]
  },
  {
   "cell_type": "code",
   "execution_count": 5,
   "metadata": {},
   "outputs": [],
   "source": [
    "DF_labels = DF_labels.drop([0,1,2])\n",
    "DF_labels.columns = ['test_vs_ref','test','ref']"
   ]
  },
  {
   "cell_type": "code",
   "execution_count": 6,
   "metadata": {},
   "outputs": [],
   "source": [
    "# Add subscript # for replicates\n",
    "seen = {name:0 for name in colnames}\n",
    "newnames = []\n",
    "for name in colnames:\n",
    "    newnames.append(name+'_{}'.format(seen[name]))\n",
    "    seen[name] += 1\n",
    "    \n",
    "DF_data.columns = newnames"
   ]
  },
  {
   "cell_type": "markdown",
   "metadata": {},
   "source": [
    "# Create metadata sheet"
   ]
  },
  {
   "cell_type": "code",
   "execution_count": 7,
   "metadata": {},
   "outputs": [],
   "source": [
    "DF_metadata = pd.DataFrame([(x[5:-2],x[-1]) for x in DF_data.columns],index=DF_data.columns,\n",
    "                          columns=['condition_id','rep'])"
   ]
  },
  {
   "cell_type": "code",
   "execution_count": 8,
   "metadata": {},
   "outputs": [],
   "source": [
    "# Add original column names\n",
    "groupnames = pd.read_csv(os.path.join(DATA_DIR,'ecoli_compendium_data/colombos_ecoli_exprdata_20151029.txt'),\n",
    "                       sep='\\t',skiprows=2,nrows=1,header=None)\n",
    "groupnames = groupnames.loc[0].values[3:-1]"
   ]
  },
  {
   "cell_type": "code",
   "execution_count": 9,
   "metadata": {},
   "outputs": [],
   "source": [
    "DF_metadata['project_id'] = groupnames"
   ]
  },
  {
   "cell_type": "code",
   "execution_count": 10,
   "metadata": {},
   "outputs": [
    {
     "data": {
      "text/html": [
       "<div>\n",
       "<style scoped>\n",
       "    .dataframe tbody tr th:only-of-type {\n",
       "        vertical-align: middle;\n",
       "    }\n",
       "\n",
       "    .dataframe tbody tr th {\n",
       "        vertical-align: top;\n",
       "    }\n",
       "\n",
       "    .dataframe thead th {\n",
       "        text-align: right;\n",
       "    }\n",
       "</style>\n",
       "<table border=\"1\" class=\"dataframe\">\n",
       "  <thead>\n",
       "    <tr style=\"text-align: right;\">\n",
       "      <th></th>\n",
       "      <th>condition_id</th>\n",
       "      <th>rep</th>\n",
       "      <th>project_id</th>\n",
       "    </tr>\n",
       "  </thead>\n",
       "  <tbody>\n",
       "    <tr>\n",
       "      <th>test_E-MEXP-1001_art_mating_F_phenocopy_0</th>\n",
       "      <td>E-MEXP-1001_art_mating_F_phenocopy</td>\n",
       "      <td>0</td>\n",
       "      <td>ref_E-MEXP-1001_suspension_exp</td>\n",
       "    </tr>\n",
       "    <tr>\n",
       "      <th>test_E-MEXP-1001_art_mating_F_phenocopy_1</th>\n",
       "      <td>E-MEXP-1001_art_mating_F_phenocopy</td>\n",
       "      <td>1</td>\n",
       "      <td>ref_E-MEXP-1001_suspension_exp</td>\n",
       "    </tr>\n",
       "    <tr>\n",
       "      <th>test_E-MEXP-1001_biofilm_0</th>\n",
       "      <td>E-MEXP-1001_biofilm</td>\n",
       "      <td>0</td>\n",
       "      <td>ref_E-MEXP-1001_suspension_exp</td>\n",
       "    </tr>\n",
       "    <tr>\n",
       "      <th>test_E-MEXP-1001_biofilm_1</th>\n",
       "      <td>E-MEXP-1001_biofilm</td>\n",
       "      <td>1</td>\n",
       "      <td>ref_E-MEXP-1001_suspension_exp</td>\n",
       "    </tr>\n",
       "    <tr>\n",
       "      <th>test_E-MEXP-1001_suspension_exp_0</th>\n",
       "      <td>E-MEXP-1001_suspension_exp</td>\n",
       "      <td>0</td>\n",
       "      <td>ref_E-MEXP-1001_suspension_exp</td>\n",
       "    </tr>\n",
       "    <tr>\n",
       "      <th>...</th>\n",
       "      <td>...</td>\n",
       "      <td>...</td>\n",
       "      <td>...</td>\n",
       "    </tr>\n",
       "    <tr>\n",
       "      <th>ref_GSE7326_controlpHSG415_1h50m_0</th>\n",
       "      <td>SE7326_controlpHSG415_1h50m</td>\n",
       "      <td>0</td>\n",
       "      <td>ref_GSE7326_controlpHSG415_0h</td>\n",
       "    </tr>\n",
       "    <tr>\n",
       "      <th>ref_GSE7326_controlpHSG415_3h_0</th>\n",
       "      <td>SE7326_controlpHSG415_3h</td>\n",
       "      <td>0</td>\n",
       "      <td>ref_GSE7326_controlpHSG415_0h</td>\n",
       "    </tr>\n",
       "    <tr>\n",
       "      <th>ref_GSE9923_BW25113_luxS_planktonic_37C_0</th>\n",
       "      <td>SE9923_BW25113_luxS_planktonic_37C</td>\n",
       "      <td>0</td>\n",
       "      <td>ref_GSE9923_BW25113_wt_planktonic_30C</td>\n",
       "    </tr>\n",
       "    <tr>\n",
       "      <th>ref_GSE9923_BW25113_sdiA_biofilm_30C_0</th>\n",
       "      <td>SE9923_BW25113_sdiA_biofilm_30C</td>\n",
       "      <td>0</td>\n",
       "      <td>ref_GSE9923_BW25113_wt_planktonic_30C</td>\n",
       "    </tr>\n",
       "    <tr>\n",
       "      <th>ref_GSE9923_BW25113_tnaA_biofilm_37C_0</th>\n",
       "      <td>SE9923_BW25113_tnaA_biofilm_37C</td>\n",
       "      <td>0</td>\n",
       "      <td>ref_GSE9923_BW25113_wt_planktonic_30C</td>\n",
       "    </tr>\n",
       "  </tbody>\n",
       "</table>\n",
       "<p>4077 rows × 3 columns</p>\n",
       "</div>"
      ],
      "text/plain": [
       "                                                                 condition_id  \\\n",
       "test_E-MEXP-1001_art_mating_F_phenocopy_0  E-MEXP-1001_art_mating_F_phenocopy   \n",
       "test_E-MEXP-1001_art_mating_F_phenocopy_1  E-MEXP-1001_art_mating_F_phenocopy   \n",
       "test_E-MEXP-1001_biofilm_0                                E-MEXP-1001_biofilm   \n",
       "test_E-MEXP-1001_biofilm_1                                E-MEXP-1001_biofilm   \n",
       "test_E-MEXP-1001_suspension_exp_0                  E-MEXP-1001_suspension_exp   \n",
       "...                                                                       ...   \n",
       "ref_GSE7326_controlpHSG415_1h50m_0                SE7326_controlpHSG415_1h50m   \n",
       "ref_GSE7326_controlpHSG415_3h_0                      SE7326_controlpHSG415_3h   \n",
       "ref_GSE9923_BW25113_luxS_planktonic_37C_0  SE9923_BW25113_luxS_planktonic_37C   \n",
       "ref_GSE9923_BW25113_sdiA_biofilm_30C_0        SE9923_BW25113_sdiA_biofilm_30C   \n",
       "ref_GSE9923_BW25113_tnaA_biofilm_37C_0        SE9923_BW25113_tnaA_biofilm_37C   \n",
       "\n",
       "                                          rep  \\\n",
       "test_E-MEXP-1001_art_mating_F_phenocopy_0   0   \n",
       "test_E-MEXP-1001_art_mating_F_phenocopy_1   1   \n",
       "test_E-MEXP-1001_biofilm_0                  0   \n",
       "test_E-MEXP-1001_biofilm_1                  1   \n",
       "test_E-MEXP-1001_suspension_exp_0           0   \n",
       "...                                        ..   \n",
       "ref_GSE7326_controlpHSG415_1h50m_0          0   \n",
       "ref_GSE7326_controlpHSG415_3h_0             0   \n",
       "ref_GSE9923_BW25113_luxS_planktonic_37C_0   0   \n",
       "ref_GSE9923_BW25113_sdiA_biofilm_30C_0      0   \n",
       "ref_GSE9923_BW25113_tnaA_biofilm_37C_0      0   \n",
       "\n",
       "                                                                      project_id  \n",
       "test_E-MEXP-1001_art_mating_F_phenocopy_0         ref_E-MEXP-1001_suspension_exp  \n",
       "test_E-MEXP-1001_art_mating_F_phenocopy_1         ref_E-MEXP-1001_suspension_exp  \n",
       "test_E-MEXP-1001_biofilm_0                        ref_E-MEXP-1001_suspension_exp  \n",
       "test_E-MEXP-1001_biofilm_1                        ref_E-MEXP-1001_suspension_exp  \n",
       "test_E-MEXP-1001_suspension_exp_0                 ref_E-MEXP-1001_suspension_exp  \n",
       "...                                                                          ...  \n",
       "ref_GSE7326_controlpHSG415_1h50m_0                 ref_GSE7326_controlpHSG415_0h  \n",
       "ref_GSE7326_controlpHSG415_3h_0                    ref_GSE7326_controlpHSG415_0h  \n",
       "ref_GSE9923_BW25113_luxS_planktonic_37C_0  ref_GSE9923_BW25113_wt_planktonic_30C  \n",
       "ref_GSE9923_BW25113_sdiA_biofilm_30C_0     ref_GSE9923_BW25113_wt_planktonic_30C  \n",
       "ref_GSE9923_BW25113_tnaA_biofilm_37C_0     ref_GSE9923_BW25113_wt_planktonic_30C  \n",
       "\n",
       "[4077 rows x 3 columns]"
      ]
     },
     "execution_count": 10,
     "metadata": {},
     "output_type": "execute_result"
    }
   ],
   "source": [
    "DF_metadata.sort_values(['condition_id','rep'])"
   ]
  },
  {
   "cell_type": "markdown",
   "metadata": {},
   "source": [
    "# Get annotations"
   ]
  },
  {
   "cell_type": "code",
   "execution_count": 11,
   "metadata": {},
   "outputs": [],
   "source": [
    "DF_labels = pd.read_csv(os.path.join(DATA_DIR,'ecoli_compendium_data/colombos_ecoli_exprdata_20151029.txt'),sep='\\t',nrows=3,header=None).T\n",
    "\n",
    "DF_labels = DF_labels.drop([0,1,2])\n",
    "DF_labels.columns = ['test_vs_ref','test','ref']\n",
    "DF_labels = DF_labels[DF_labels.test_vs_ref.notnull()]"
   ]
  },
  {
   "cell_type": "code",
   "execution_count": 12,
   "metadata": {},
   "outputs": [],
   "source": [
    "# Get annotations\n",
    "refannot = pd.read_csv(os.path.join(DATA_DIR,'ecoli_compendium_data/colombos_ecoli_refannot_20151029.txt'),sep='\\t')\n",
    "refannot.RefAnnotation = refannot.RefAnnotation.str.replace('O157:H7','O157-H7')\n",
    "refannot = pd.concat([refannot,refannot.RefAnnotation.str.split(':',expand=True)],axis=1)\n",
    "\n",
    "test_annot = pd.read_csv(os.path.join(DATA_DIR,'ecoli_compendium_data/colombos_ecoli_testannot_20151029.txt'),sep='\\t')\n",
    "test_annot.TestAnnotation = test_annot.TestAnnotation.str.replace('O157:H7','O157-H7')\n",
    "test_annot = pd.concat([test_annot,test_annot.TestAnnotation.str.split(':',expand=True)],axis=1)"
   ]
  },
  {
   "cell_type": "code",
   "execution_count": 15,
   "metadata": {},
   "outputs": [],
   "source": [
    "refannot = refannot.drop('RefAnnotation',axis=1)\n",
    "refannot = refannot.rename(columns={0:'variable',1:'ref_value'})\n",
    "\n",
    "test_annot = test_annot.drop('TestAnnotation',axis=1)\n",
    "test_annot = test_annot.rename(columns={0:'variable',1:'test_value'})"
   ]
  },
  {
   "cell_type": "code",
   "execution_count": 16,
   "metadata": {},
   "outputs": [],
   "source": [
    "ref_labels = pd.merge(DF_labels,refannot,left_on='test_vs_ref',right_on='ContrastName',how='outer')\n",
    "test_labels = pd.merge(DF_labels,test_annot,left_on='test_vs_ref',right_on='ContrastName',how='outer')"
   ]
  },
  {
   "cell_type": "code",
   "execution_count": 17,
   "metadata": {},
   "outputs": [],
   "source": [
    "final_annot = pd.merge(ref_labels,test_labels,on=['test','variable'],how='outer')\n",
    "#final_annot = final_annot[['test','variable','ref_value','test_value']]"
   ]
  },
  {
   "cell_type": "code",
   "execution_count": 18,
   "metadata": {},
   "outputs": [],
   "source": [
    "final_annot = final_annot[final_annot.ref_value != final_annot.test_value]"
   ]
  },
  {
   "cell_type": "code",
   "execution_count": 19,
   "metadata": {},
   "outputs": [],
   "source": [
    "final_annot.to_csv(os.path.join(DATA_DIR,'colombos','annotations.csv'))"
   ]
  },
  {
   "cell_type": "markdown",
   "metadata": {},
   "source": [
    "# Remove reference conditions"
   ]
  },
  {
   "cell_type": "code",
   "execution_count": 20,
   "metadata": {},
   "outputs": [],
   "source": [
    "DF_data = DF_data[DF_data.columns[~DF_data.columns.str.startswith('ref')]]"
   ]
  },
  {
   "cell_type": "code",
   "execution_count": 21,
   "metadata": {},
   "outputs": [
    {
     "data": {
      "text/plain": [
       "(4321, 3962)"
      ]
     },
     "execution_count": 21,
     "metadata": {},
     "output_type": "execute_result"
    }
   ],
   "source": [
    "DF_data.shape"
   ]
  },
  {
   "cell_type": "markdown",
   "metadata": {},
   "source": [
    "# Check data quality"
   ]
  },
  {
   "cell_type": "code",
   "execution_count": 22,
   "metadata": {},
   "outputs": [],
   "source": [
    "# Check for items with replicates\n",
    "keep_cols = []\n",
    "for k,v in seen.items():\n",
    "    if v > 1:\n",
    "        keep_cols.append(k)\n",
    "\n",
    "DF_reps = DF_data[sorted([col for col in DF_data.columns if col[:-2] in keep_cols])]"
   ]
  },
  {
   "cell_type": "code",
   "execution_count": 23,
   "metadata": {},
   "outputs": [
    {
     "name": "stdout",
     "output_type": "stream",
     "text": [
      "Old dataset size: (4321, 3962)\n",
      "New dataset size: (3592, 3133)\n"
     ]
    }
   ],
   "source": [
    "# Only use platforms with <300 null values\n",
    "good_platforms = DF_reps.columns[DF_reps.isnull().sum(axis=0) < 300]\n",
    "# Only include genes with all non-null values\n",
    "good_genes = DF_reps.index[DF_reps[good_platforms].notnull().all(axis=1)]\n",
    "good_data = DF_reps.loc[good_genes,good_platforms]\n",
    "print('Old dataset size:',DF_data.shape)\n",
    "print('New dataset size:',good_data.shape)"
   ]
  },
  {
   "cell_type": "code",
   "execution_count": 24,
   "metadata": {},
   "outputs": [],
   "source": [
    "good_data_conds = pd.Series([x[:-2] for x in good_data.columns]).unique()"
   ]
  },
  {
   "cell_type": "markdown",
   "metadata": {},
   "source": [
    "# Check replicate correlations"
   ]
  },
  {
   "cell_type": "code",
   "execution_count": 25,
   "metadata": {},
   "outputs": [],
   "source": [
    "from scipy import stats"
   ]
  },
  {
   "cell_type": "code",
   "execution_count": 26,
   "metadata": {},
   "outputs": [],
   "source": [
    "import numpy as np"
   ]
  },
  {
   "cell_type": "code",
   "execution_count": 27,
   "metadata": {},
   "outputs": [
    {
     "name": "stderr",
     "output_type": "stream",
     "text": [
      "<ipython-input-27-cbad402dabfc>:3: TqdmDeprecationWarning: This function will be removed in tqdm==5.0.0\n",
      "Please use `tqdm.notebook.tqdm` instead of `tqdm.tqdm_notebook`\n",
      "  for c1,c2 in tqdm(itertools.combinations(good_data.columns,2),total = len(list(itertools.combinations(good_data.columns,2)))):\n"
     ]
    },
    {
     "data": {
      "application/vnd.jupyter.widget-view+json": {
       "model_id": "6d2c42f30b8a454589fa5a4773eb4784",
       "version_major": 2,
       "version_minor": 0
      },
      "text/plain": [
       "HBox(children=(FloatProgress(value=0.0, max=4906278.0), HTML(value='')))"
      ]
     },
     "metadata": {},
     "output_type": "display_data"
    },
    {
     "name": "stdout",
     "output_type": "stream",
     "text": [
      "\n"
     ]
    }
   ],
   "source": [
    "rep_corrs = {}\n",
    "rand_corrs = {}\n",
    "for c1,c2 in tqdm(itertools.combinations(good_data.columns,2),total = len(list(itertools.combinations(good_data.columns,2)))):\n",
    "    if c1[:-2] == c2[:-2]:\n",
    "        rep_corrs[(c1,c2)] = stats.pearsonr(good_data[c1],good_data[c2])[0]\n",
    "    else:\n",
    "        if np.random.rand() < 0.001:\n",
    "            rand_corrs[(c1,c2)] = stats.pearsonr(good_data[c1],good_data[c2])[0]"
   ]
  },
  {
   "cell_type": "code",
   "execution_count": 28,
   "metadata": {},
   "outputs": [
    {
     "data": {
      "image/png": "[encoded data removed]",
      "text/plain": [
       "<Figure size 432x288 with 2 Axes>"
      ]
     },
     "metadata": {
      "needs_background": "light"
     },
     "output_type": "display_data"
    }
   ],
   "source": [
    "fig,ax = plt.subplots()\n",
    "ax2 = ax.twinx()\n",
    "ax.hist(rand_corrs.values(),range=(-1,1),bins=20,label='Non-replicates')\n",
    "ax.hist([],color='green',label='Replicates')\n",
    "ax2.hist(rep_corrs.values(),range=(-1,1),bins=20,alpha=.7,color='green')\n",
    "ax.set_xlabel('Pearson Correlation',fontsize=14)\n",
    "ax.set_ylabel('Non-replicate Count (1000s)',fontsize=14)\n",
    "ax2.set_ylabel('Replicate Count',fontsize=14)\n",
    "ax.legend(loc=2,fontsize=12)\n",
    "plt.savefig('test.png',dpi=600)"
   ]
  },
  {
   "cell_type": "code",
   "execution_count": 29,
   "metadata": {
    "scrolled": false
   },
   "outputs": [],
   "source": [
    "reps2 = set([c for k,v in rep_corrs.items() if v > 0.2 for c in k])"
   ]
  },
  {
   "cell_type": "code",
   "execution_count": 30,
   "metadata": {},
   "outputs": [
    {
     "name": "stdout",
     "output_type": "stream",
     "text": [
      "3016\n"
     ]
    }
   ],
   "source": [
    "print(len(reps2))"
   ]
  },
  {
   "cell_type": "markdown",
   "metadata": {},
   "source": [
    "# Final touches"
   ]
  },
  {
   "cell_type": "code",
   "execution_count": null,
   "metadata": {},
   "outputs": [],
   "source": [
    "good_data = good_data[set(reps2)]\n",
    "good_data.to_csv(os.path.join(DATA_DIR,'colombos','colombos.csv'))"
   ]
  },
  {
   "cell_type": "code",
   "execution_count": null,
   "metadata": {},
   "outputs": [],
   "source": [
    "DF_metadata.loc[good_data.columns].to_csv(os.path.join(DATA_DIR,'colombos','metadata.csv'))"
   ]
  },
  {
   "cell_type": "code",
   "execution_count": null,
   "metadata": {},
   "outputs": [],
   "source": [
    "from sklearn.preprocessing import scale\n",
    "from sklearn.decomposition import PCA\n",
    "\n",
    "pca = PCA()\n",
    "DF_weights = pd.DataFrame(pca.fit_transform(good_data.transpose()),index=good_data.columns)\n",
    "DF_components = pd.DataFrame(pca.components_.T,index=good_data.index)"
   ]
  },
  {
   "cell_type": "code",
   "execution_count": null,
   "metadata": {},
   "outputs": [],
   "source": [
    "var_cutoff = 0.95\n",
    "\n",
    "fig,ax = plt.subplots(figsize=(5,3))\n",
    "pca_var = np.cumsum(pca.explained_variance_ratio_)\n",
    "ax.plot(pca_var)\n",
    "dims = np.where(pca_var > var_cutoff)[0][0] + 1\n",
    "ax.vlines(dims,0,1,linestyles='dotted')\n",
    "ax.hlines(var_cutoff,0,len(good_data.columns),linestyles='dotted')\n",
    "ax.set_ylim(0,1)\n",
    "ax.set_xlim(0,len(good_data.columns))\n",
    "ax.set_ylabel('Fraction of Explained Variance')\n",
    "ax.set_xlabel('Number of Dimensions')\n",
    "print('Number of dimensions for 95% of variance:',dims)\n",
    "None"
   ]
  },
  {
   "cell_type": "code",
   "execution_count": null,
   "metadata": {},
   "outputs": [],
   "source": []
  }
 ],
 "metadata": {
  "kernelspec": {
   "display_name": "Python 3",
   "language": "python",
   "name": "python3"
  },
  "language_info": {
   "codemirror_mode": {
    "name": "ipython",
    "version": 3
   },
   "file_extension": ".py",
   "mimetype": "text/x-python",
   "name": "python",
   "nbconvert_exporter": "python",
   "pygments_lexer": "ipython3",
   "version": "3.8.2"
  },
  "toc": {
   "base_numbering": 1,
   "nav_menu": {},
   "number_sections": true,
   "sideBar": true,
   "skip_h1_title": false,
   "title_cell": "Table of Contents",
   "title_sidebar": "Contents",
   "toc_cell": true,
   "toc_position": {},
   "toc_section_display": true,
   "toc_window_display": false
  }
 },
 "nbformat": 4,
 "nbformat_minor": 2
}
