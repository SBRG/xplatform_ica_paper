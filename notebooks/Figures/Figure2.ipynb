{
 "cells": [
  {
   "cell_type": "markdown",
   "metadata": {
    "toc": true
   },
   "source": [
    "<h1>Table of Contents<span class=\"tocSkip\"></span></h1>\n",
    "<div class=\"toc\"><ul class=\"toc-item\"><li><span><a href=\"#Load-datasets\" data-toc-modified-id=\"Load-datasets-1\"><span class=\"toc-item-num\">1&nbsp;&nbsp;</span>Load datasets</a></span></li><li><span><a href=\"#Figure-2---CysB-iModulons\" data-toc-modified-id=\"Figure-2---CysB-iModulons-2\"><span class=\"toc-item-num\">2&nbsp;&nbsp;</span>Figure 2 - CysB iModulons</a></span><ul class=\"toc-item\"><li><span><a href=\"#Get-CysB-cluster\" data-toc-modified-id=\"Get-CysB-cluster-2.1\"><span class=\"toc-item-num\">2.1&nbsp;&nbsp;</span>Get CysB cluster</a></span><ul class=\"toc-item\"><li><span><a href=\"#Figure-out-which-I-modulons-from-RNAseq-1-can-combine-to-form-CysB-from-MA-3\" data-toc-modified-id=\"Figure-out-which-I-modulons-from-RNAseq-1-can-combine-to-form-CysB-from-MA-3-2.1.1\"><span class=\"toc-item-num\">2.1.1&nbsp;&nbsp;</span>Figure out which I-modulons from RNAseq-1 can combine to form CysB from MA-3</a></span></li></ul></li></ul></li><li><span><a href=\"#Figure-2a---4x4-plot\" data-toc-modified-id=\"Figure-2a---4x4-plot-3\"><span class=\"toc-item-num\">3&nbsp;&nbsp;</span>Figure 2a - 4x4 plot</a></span><ul class=\"toc-item\"><li><span><a href=\"#Figure-2b---iModulon-summation\" data-toc-modified-id=\"Figure-2b---iModulon-summation-3.1\"><span class=\"toc-item-num\">3.1&nbsp;&nbsp;</span>Figure 2b - iModulon summation</a></span></li></ul></li></ul></div>"
   ]
  },
  {
   "cell_type": "markdown",
   "metadata": {},
   "source": [
    "# Load datasets"
   ]
  },
  {
   "cell_type": "code",
   "execution_count": 1,
   "metadata": {},
   "outputs": [],
   "source": [
    "import sys\n",
    "import matplotlib.pyplot as plt\n",
    "from tqdm.notebook import tqdm\n",
    "import seaborn as sns\n",
    "from itertools import combinations\n",
    "sys.path.append('../../scripts/')\n",
    "from core import *\n",
    "from rbh import *"
   ]
  },
  {
   "cell_type": "code",
   "execution_count": 2,
   "metadata": {},
   "outputs": [],
   "source": [
    "sns.set_style('ticks')\n",
    "plt.style.use('custom')"
   ]
  },
  {
   "cell_type": "code",
   "execution_count": 3,
   "metadata": {},
   "outputs": [],
   "source": [
    "datasets = sorted([x for x in os.listdir(os.path.join(DATA_DIR,'iModulons'))\n",
    "            if '.' not in x])\n",
    "\n",
    "# Remove combined\n",
    "datasets = datasets[:-1]"
   ]
  },
  {
   "cell_type": "code",
   "execution_count": 4,
   "metadata": {},
   "outputs": [],
   "source": [
    "# Thresholds were obtained from sensitivity analysis\n",
    "cutoffs = {'MA-1': 550,\n",
    " 'MA-2': 600,\n",
    " 'MA-3': 350,\n",
    " 'RNAseq-1': 700,\n",
    " 'RNAseq-2': 300,\n",
    " 'combined': 400}"
   ]
  },
  {
   "cell_type": "code",
   "execution_count": 5,
   "metadata": {},
   "outputs": [],
   "source": [
    "def load(dataset):\n",
    "    # Define directories\n",
    "    ds_dir = os.path.join(DATA_DIR,'iModulons',dataset)\n",
    "    \n",
    "    # Define files\n",
    "    X_file = os.path.join(DATA_DIR,'processed_data',dataset+'.csv')\n",
    "    M_file = os.path.join(ds_dir,'M.csv')\n",
    "    A_file = os.path.join(ds_dir,'A.csv')\n",
    "    metadata_file = os.path.join(DATA_DIR,'metadata',dataset+'_metadata.csv')\n",
    "    \n",
    "    return IcaData(M_file,A_file,X_file,metadata_file,cutoffs[dataset])"
   ]
  },
  {
   "cell_type": "code",
   "execution_count": 6,
   "metadata": {},
   "outputs": [
    {
     "data": {
      "application/vnd.jupyter.widget-view+json": {
       "model_id": "5fcb02b31adc4dcab2b8c1f05b438ce9",
       "version_major": 2,
       "version_minor": 0
      },
      "text/plain": [
       "HBox(children=(HTML(value=''), FloatProgress(value=0.0, max=5.0), HTML(value='')))"
      ]
     },
     "metadata": {},
     "output_type": "display_data"
    },
    {
     "name": "stdout",
     "output_type": "stream",
     "text": [
      "\n"
     ]
    }
   ],
   "source": [
    "# Load datasets\n",
    "objs = {}\n",
    "for ds in tqdm(datasets):\n",
    "    objs[ds] = load(ds)"
   ]
  },
  {
   "cell_type": "code",
   "execution_count": 7,
   "metadata": {},
   "outputs": [],
   "source": [
    "DF_categories = pd.read_csv(os.path.join(DATA_DIR,'iModulons','categories_curated.csv'),index_col=0)\n",
    "DF_categories = DF_categories[DF_categories.dataset != 'combined']"
   ]
  },
  {
   "cell_type": "code",
   "execution_count": 8,
   "metadata": {},
   "outputs": [
    {
     "data": {
      "text/plain": [
       "[260, 124, 56, 278, 84]"
      ]
     },
     "execution_count": 8,
     "metadata": {},
     "output_type": "execute_result"
    }
   ],
   "source": [
    "[objs[ds].X.shape[1] for ds in datasets]"
   ]
  },
  {
   "cell_type": "code",
   "execution_count": 9,
   "metadata": {},
   "outputs": [
    {
     "data": {
      "text/plain": [
       "Text(0, 0.5, 'Number of Expression Profiles')"
      ]
     },
     "execution_count": 9,
     "metadata": {},
     "output_type": "execute_result"
    },
    {
     "data": {
      "image/png": "[encoded data removed]",
      "text/plain": [
       "<Figure size 225x300 with 1 Axes>"
      ]
     },
     "metadata": {},
     "output_type": "display_data"
    }
   ],
   "source": [
    "fig,ax = plt.subplots(figsize=(1.5,2))\n",
    "plt.bar(range(5),[278,84,260,124,56],color='tab:blue')\n",
    "plt.xticks(range(5),['RNAseq-1','RNAseq-2','MA-1','MA-2','MA-3'],rotation=40,ha='right')\n",
    "plt.ylabel('Number of Expression Profiles') "
   ]
  },
  {
   "cell_type": "markdown",
   "metadata": {},
   "source": [
    "# Figure 2 - CysB iModulons"
   ]
  },
  {
   "cell_type": "markdown",
   "metadata": {},
   "source": [
    "## Get CysB cluster"
   ]
  },
  {
   "cell_type": "code",
   "execution_count": 10,
   "metadata": {},
   "outputs": [],
   "source": [
    "cysB_imods = {'RNAseq-1':46,'RNAseq-2':25,'MA-1':12,'MA-2':6,'MA-3':6}"
   ]
  },
  {
   "cell_type": "code",
   "execution_count": 11,
   "metadata": {},
   "outputs": [],
   "source": [
    "cysB_genes = trn[trn.TF == 'cysB'].gene_id.tolist()"
   ]
  },
  {
   "cell_type": "markdown",
   "metadata": {},
   "source": [
    "### Figure out which I-modulons from RNAseq-1 can combine to form CysB from MA-3"
   ]
  },
  {
   "cell_type": "code",
   "execution_count": 12,
   "metadata": {},
   "outputs": [
    {
     "name": "stdout",
     "output_type": "stream",
     "text": [
      "MA-3 contains this percent of other i-modulons: 0.5392454515919428\n"
     ]
    }
   ],
   "source": [
    "cysb_list = [set(objs[ds].show_enriched(k).index.tolist()) for ds,k in cysB_imods.items()]\n",
    "print('MA-3 contains this percent of other i-modulons:',\n",
    "      np.mean([len(cysb_list[2] & cysb_list[i])/len(cysb_list[i]) for i in [0,1,3,4]]))"
   ]
  },
  {
   "cell_type": "code",
   "execution_count": 13,
   "metadata": {},
   "outputs": [],
   "source": [
    "ma3_cysb_genes = set(objs['MA-3'].show_enriched(6).index.tolist())"
   ]
  },
  {
   "cell_type": "code",
   "execution_count": 14,
   "metadata": {},
   "outputs": [],
   "source": [
    "# Find the 10 components in RNAseq-1 that correlate highest with MA-3\n",
    "X = objs['RNAseq-1'].M\n",
    "y = objs['MA-3'].M[6]\n",
    "\n",
    "corrs = np.array([abs(stats.pearsonr(X[k],y)[0]) for k in objs['RNAseq-1'].M.columns])\n",
    "rnaseq1_mods = np.argsort(corrs)[-10:]"
   ]
  },
  {
   "cell_type": "code",
   "execution_count": 15,
   "metadata": {},
   "outputs": [
    {
     "data": {
      "text/plain": [
       "array([58,  3, 78, 77, 73, 87, 17, 24, 54, 46])"
      ]
     },
     "execution_count": 15,
     "metadata": {},
     "output_type": "execute_result"
    }
   ],
   "source": [
    "rnaseq1_mods"
   ]
  },
  {
   "cell_type": "code",
   "execution_count": 16,
   "metadata": {
    "scrolled": true
   },
   "outputs": [
    {
     "data": {
      "text/plain": [
       "['glpR',\n",
       " 'cellular response to nutrient levels',\n",
       " nan,\n",
       " 'trpR',\n",
       " 'metJ',\n",
       " 'leu-tRNA',\n",
       " 'argR',\n",
       " 'lrp',\n",
       " 'TPP',\n",
       " 'cysB']"
      ]
     },
     "execution_count": 16,
     "metadata": {},
     "output_type": "execute_result"
    }
   ],
   "source": [
    "# Get associated regulators for these i-modulons\n",
    "ma3_regs = [DF_categories.loc['RNAseq-1_'+str(k)].description for k in rnaseq1_mods]\n",
    "ma3_regs"
   ]
  },
  {
   "cell_type": "markdown",
   "metadata": {},
   "source": [
    "# Figure 2a - 4x4 plot"
   ]
  },
  {
   "cell_type": "code",
   "execution_count": 17,
   "metadata": {},
   "outputs": [],
   "source": [
    "cysB_genes = trn[trn.TF == 'cysB'].gene_id.tolist()\n",
    "reg_genes = set(trn[trn.TF.isin(ma3_regs)].gene_id.tolist()) - set(cysB_genes)\n",
    "# reg_genes = set.union(*[set(objs['RNAseq-1'].show_enriched(k).index) for k in rnaseq1_mods[:-1]]) # remove cysB\n",
    "other_genes = set(objs['RNAseq-1'].M.index) - set(cysB_genes) - set(reg_genes)"
   ]
  },
  {
   "cell_type": "code",
   "execution_count": 18,
   "metadata": {},
   "outputs": [
    {
     "name": "stdout",
     "output_type": "stream",
     "text": [
      "MA-3 genes absent from all other i-modulons: 59\n"
     ]
    }
   ],
   "source": [
    "print('MA-3 genes absent from all other i-modulons:',\n",
    "      len(cysb_list[4] - cysb_list[0] - cysb_list[1] - cysb_list[3] - cysb_list[2]))"
   ]
  },
  {
   "cell_type": "code",
   "execution_count": 19,
   "metadata": {},
   "outputs": [],
   "source": [
    "from functools import reduce\n",
    "cysB_all_genes = reduce(set.intersection,cysb_list)"
   ]
  },
  {
   "cell_type": "code",
   "execution_count": 20,
   "metadata": {
    "scrolled": true
   },
   "outputs": [
    {
     "name": "stdout",
     "output_type": "stream",
     "text": [
      "Genes in all CysB i-modulons 16\n",
      "Genes not known to be regulated by CysB:\n",
      "['yeeD', 'yeeE', 'gsiA']\n"
     ]
    }
   ],
   "source": [
    "print('Genes in all CysB i-modulons',len(cysB_all_genes))\n",
    "print('Genes not known to be regulated by CysB:')\n",
    "print([num2name[x] for x in cysB_all_genes - set(cysB_genes)])"
   ]
  },
  {
   "cell_type": "code",
   "execution_count": 21,
   "metadata": {},
   "outputs": [
    {
     "name": "stdout",
     "output_type": "stream",
     "text": [
      "(('RNAseq-1', 46), ('RNAseq-2', 25))\n",
      "(('RNAseq-1', 46), ('MA-1', 12))\n",
      "(('RNAseq-1', 46), ('MA-2', 6))\n",
      "(('RNAseq-1', 46), ('MA-3', 6))\n",
      "(('RNAseq-2', 25), ('MA-1', 12))\n",
      "(('RNAseq-2', 25), ('MA-2', 6))\n",
      "(('RNAseq-2', 25), ('MA-3', 6))\n",
      "(('MA-1', 12), ('MA-2', 6))\n",
      "(('MA-1', 12), ('MA-3', 6))\n",
      "(('MA-2', 6), ('MA-3', 6))\n"
     ]
    }
   ],
   "source": [
    "for x in combinations(cysB_imods.items(),2):\n",
    "    print(x)"
   ]
  },
  {
   "cell_type": "code",
   "execution_count": 22,
   "metadata": {
    "scrolled": false
   },
   "outputs": [
    {
     "data": {
      "image/png": "[encoded data removed]",
      "text/plain": [
       "<Figure size 562.5x637.5 with 16 Axes>"
      ]
     },
     "metadata": {},
     "output_type": "display_data"
    }
   ],
   "source": [
    "s = 4\n",
    "fig,ax = plt.subplots(4,4,figsize=(3.75,4.25))\n",
    "for (i,(ds1,k1)),(j,(ds2,k2)) in combinations(enumerate(cysB_imods.items()),2):\n",
    "    \n",
    "    j = 5-j-1\n",
    "    \n",
    "    # If dataset is in MA-3, plot genes in other regulons\n",
    "    if ds1 == 'MA-3' or ds2 == 'MA-3':\n",
    "        ax[i,j].scatter(objs[ds2].M.loc[other_genes,k2],objs[ds1].M.loc[other_genes,k1],\n",
    "                        s=s,color='k',linewidth=0)\n",
    "        ax[i,j].scatter(objs[ds2].M.loc[reg_genes,k2],objs[ds1].M.loc[reg_genes,k1],\n",
    "                        s=s,color='dodgerblue',linewidth=0)\n",
    "    else:\n",
    "        ax[i,j].scatter(objs[ds2].M.loc[reg_genes|other_genes,k2],\n",
    "                        objs[ds1].M.loc[reg_genes|other_genes,k1],\n",
    "                        s=s,color='k',linewidth=0)\n",
    "    ax[i,j].scatter(objs[ds2].M.loc[cysB_genes,k2],objs[ds1].M.loc[cysB_genes,k1],\n",
    "                    s=s,color='r',linewidth=0)\n",
    "    \n",
    "    # Plot thresholds and 45 degree line\n",
    "    xmin,xmax = ax[i,j].get_xlim()\n",
    "    ymin,ymax = ax[i,j].get_ylim()\n",
    "    allmin = max(xmin,ymin)\n",
    "    allmax = min(xmax,ymax)\n",
    "    \n",
    "    ax[i,j].plot([allmin,allmax],[allmin,allmax],color='grey',linewidth=.5)\n",
    "    \n",
    "    ax[i,j].vlines([-objs[ds2].thresholds[k2],objs[ds2].thresholds[k2]],ymin,ymax,\n",
    "                   linewidths=.5,color='gray',linestyle='dashed')\n",
    "    ax[i,j].hlines([-objs[ds1].thresholds[k1],objs[ds1].thresholds[k1]],xmin,xmax,\n",
    "                   linewidths=.5,color='gray',linestyle='dashed')\n",
    "    \n",
    "    # Tick params\n",
    "    ax[i,j].set_xlim([xmin,xmax])\n",
    "    ax[i,j].set_ylim([ymin,ymax])\n",
    "    ax[i,j].tick_params(bottom=False,labelbottom=False,left=False,labelleft=False)    \n",
    "    ax[i,j].set_xlabel('Pearson R = {:.2f}'.format(stats.pearsonr(objs[ds1].M[k1],objs[ds2].M[k2])[0]),\n",
    "                       fontsize=6)\n",
    "\n",
    "for row in ax:\n",
    "    for panel in row:\n",
    "        panel.tick_params(bottom=False,labelbottom=False,left=False,labelleft=False)\n",
    "    \n",
    "    \n",
    "plt.tight_layout()"
   ]
  },
  {
   "cell_type": "code",
   "execution_count": 23,
   "metadata": {},
   "outputs": [],
   "source": [
    "set1 = set(objs['RNAseq-1'].show_enriched(46).index)\n",
    "set2 = set(objs['RNAseq-2'].show_enriched(25).index)\n",
    "set3 = set(objs['MA-1'].show_enriched(12).index)\n",
    "set4 = set(objs['MA-2'].show_enriched(6).index)\n",
    "set5 = set(objs['MA-3'].show_enriched(6).index)"
   ]
  },
  {
   "cell_type": "code",
   "execution_count": 24,
   "metadata": {},
   "outputs": [],
   "source": [
    "from itertools import combinations_with_replacement"
   ]
  },
  {
   "cell_type": "code",
   "execution_count": 25,
   "metadata": {},
   "outputs": [
    {
     "data": {
      "text/plain": [
       "0.8728908382066277"
      ]
     },
     "execution_count": 25,
     "metadata": {},
     "output_type": "execute_result"
    }
   ],
   "source": [
    "overlaps = [len(s1 & s2) / len(s1) for s1,s2 in combinations_with_replacement([set1,set2,set3,set4,set5],2)]\n",
    "np.mean(overlaps)"
   ]
  },
  {
   "cell_type": "markdown",
   "metadata": {},
   "source": [
    "## Figure 2b - iModulon summation"
   ]
  },
  {
   "cell_type": "code",
   "execution_count": 26,
   "metadata": {},
   "outputs": [],
   "source": [
    "from sklearn.linear_model import LinearRegression"
   ]
  },
  {
   "cell_type": "code",
   "execution_count": 27,
   "metadata": {},
   "outputs": [
    {
     "data": {
      "text/plain": [
       "LinearRegression(fit_intercept=False)"
      ]
     },
     "execution_count": 27,
     "metadata": {},
     "output_type": "execute_result"
    }
   ],
   "source": [
    "X = objs['RNAseq-1'].M[rnaseq1_mods]\n",
    "y = objs['MA-3'].M[6]\n",
    "lm = LinearRegression(fit_intercept=False)\n",
    "lm.fit(X,y)"
   ]
  },
  {
   "cell_type": "code",
   "execution_count": 28,
   "metadata": {},
   "outputs": [],
   "source": [
    "yprime = pd.Series(lm.predict(X),index=y.index)"
   ]
  },
  {
   "cell_type": "code",
   "execution_count": 29,
   "metadata": {},
   "outputs": [],
   "source": [
    "desc = [DF_categories.loc['RNAseq-1_'+str(k)]['description'] for k in X.columns]"
   ]
  },
  {
   "cell_type": "code",
   "execution_count": 33,
   "metadata": {},
   "outputs": [
    {
     "data": {
      "text/html": [
       "<div>\n",
       "<style scoped>\n",
       "    .dataframe tbody tr th:only-of-type {\n",
       "        vertical-align: middle;\n",
       "    }\n",
       "\n",
       "    .dataframe tbody tr th {\n",
       "        vertical-align: top;\n",
       "    }\n",
       "\n",
       "    .dataframe thead th {\n",
       "        text-align: right;\n",
       "    }\n",
       "</style>\n",
       "<table border=\"1\" class=\"dataframe\">\n",
       "  <thead>\n",
       "    <tr style=\"text-align: right;\">\n",
       "      <th></th>\n",
       "      <th>I-modulon</th>\n",
       "      <th>Description</th>\n",
       "      <th>Linear Regression Coefficient</th>\n",
       "    </tr>\n",
       "  </thead>\n",
       "  <tbody>\n",
       "    <tr>\n",
       "      <th>0</th>\n",
       "      <td>RNAseq-1_58</td>\n",
       "      <td>glpR</td>\n",
       "      <td>0.106558</td>\n",
       "    </tr>\n",
       "    <tr>\n",
       "      <th>1</th>\n",
       "      <td>RNAseq-1_3</td>\n",
       "      <td>cellular response to nutrient levels</td>\n",
       "      <td>-0.109289</td>\n",
       "    </tr>\n",
       "    <tr>\n",
       "      <th>2</th>\n",
       "      <td>RNAseq-1_78</td>\n",
       "      <td>NaN</td>\n",
       "      <td>-0.137547</td>\n",
       "    </tr>\n",
       "    <tr>\n",
       "      <th>3</th>\n",
       "      <td>RNAseq-1_77</td>\n",
       "      <td>trpR</td>\n",
       "      <td>0.15401</td>\n",
       "    </tr>\n",
       "    <tr>\n",
       "      <th>4</th>\n",
       "      <td>RNAseq-1_73</td>\n",
       "      <td>metJ</td>\n",
       "      <td>0.151118</td>\n",
       "    </tr>\n",
       "    <tr>\n",
       "      <th>5</th>\n",
       "      <td>RNAseq-1_87</td>\n",
       "      <td>leu-tRNA</td>\n",
       "      <td>0.190403</td>\n",
       "    </tr>\n",
       "    <tr>\n",
       "      <th>6</th>\n",
       "      <td>RNAseq-1_17</td>\n",
       "      <td>argR</td>\n",
       "      <td>0.202501</td>\n",
       "    </tr>\n",
       "    <tr>\n",
       "      <th>7</th>\n",
       "      <td>RNAseq-1_24</td>\n",
       "      <td>lrp</td>\n",
       "      <td>-0.203731</td>\n",
       "    </tr>\n",
       "    <tr>\n",
       "      <th>8</th>\n",
       "      <td>RNAseq-1_54</td>\n",
       "      <td>TPP</td>\n",
       "      <td>0.290562</td>\n",
       "    </tr>\n",
       "    <tr>\n",
       "      <th>9</th>\n",
       "      <td>RNAseq-1_46</td>\n",
       "      <td>cysB</td>\n",
       "      <td>0.436685</td>\n",
       "    </tr>\n",
       "  </tbody>\n",
       "</table>\n",
       "</div>"
      ],
      "text/plain": [
       "     I-modulon                           Description  \\\n",
       "0  RNAseq-1_58                                  glpR   \n",
       "1   RNAseq-1_3  cellular response to nutrient levels   \n",
       "2  RNAseq-1_78                                   NaN   \n",
       "3  RNAseq-1_77                                  trpR   \n",
       "4  RNAseq-1_73                                  metJ   \n",
       "5  RNAseq-1_87                              leu-tRNA   \n",
       "6  RNAseq-1_17                                  argR   \n",
       "7  RNAseq-1_24                                   lrp   \n",
       "8  RNAseq-1_54                                   TPP   \n",
       "9  RNAseq-1_46                                  cysB   \n",
       "\n",
       "  Linear Regression Coefficient  \n",
       "0                      0.106558  \n",
       "1                     -0.109289  \n",
       "2                     -0.137547  \n",
       "3                       0.15401  \n",
       "4                      0.151118  \n",
       "5                      0.190403  \n",
       "6                      0.202501  \n",
       "7                     -0.203731  \n",
       "8                      0.290562  \n",
       "9                      0.436685  "
      ]
     },
     "execution_count": 33,
     "metadata": {},
     "output_type": "execute_result"
    }
   ],
   "source": [
    "pd.DataFrame([['RNAseq-1_'+str(k) for k in X.columns],desc,list(lm.coef_)],index=['I-modulon','Description',\n",
    "                                                                                  'Linear Regression Coefficient']).T"
   ]
  },
  {
   "cell_type": "code",
   "execution_count": 31,
   "metadata": {},
   "outputs": [
    {
     "data": {
      "text/plain": [
       "(0.6861739910368674, 0.0)"
      ]
     },
     "execution_count": 31,
     "metadata": {},
     "output_type": "execute_result"
    }
   ],
   "source": [
    "stats.pearsonr(y,yprime)"
   ]
  },
  {
   "cell_type": "code",
   "execution_count": 32,
   "metadata": {},
   "outputs": [
    {
     "data": {
      "text/plain": [
       "Text(0.5, 0, 'MA-3 CysB I-modulon')"
      ]
     },
     "execution_count": 32,
     "metadata": {},
     "output_type": "execute_result"
    },
    {
     "data": {
      "image/png": "[encoded data removed]",
      "text/plain": [
       "<Figure size 225x225 with 1 Axes>"
      ]
     },
     "metadata": {},
     "output_type": "display_data"
    }
   ],
   "source": [
    "fig,ax = plt.subplots(figsize=(1.5,1.5))\n",
    "\n",
    "label_text = '$R^2$ = {:.2f}'.format(lm.score(X,y))\n",
    "\n",
    "\n",
    "ax.scatter(y.loc[other_genes],yprime.loc[other_genes],s=3,color='black')\n",
    "ax.scatter(y.loc[reg_genes],yprime.loc[reg_genes],s=3,color='dodgerblue')\n",
    "ax.scatter(y.loc[cysB_genes],yprime.loc[cysB_genes],s=3,color='red')\n",
    "\n",
    "ax.plot([-.1,.15],[-.1,.15],color='grey',linewidth=0.5)\n",
    "ax.axis('equal');\n",
    "#ax.legend(loc=4)\n",
    "ax.set_ylabel('Linear Combination of 10 RNAseq-1 I-modulons')\n",
    "ax.set_xlabel('MA-3 CysB I-modulon')"
   ]
  },
  {
   "cell_type": "code",
   "execution_count": null,
   "metadata": {},
   "outputs": [],
   "source": []
  }
 ],
 "metadata": {
  "kernelspec": {
   "display_name": "Python 3",
   "language": "python",
   "name": "python3"
  },
  "language_info": {
   "codemirror_mode": {
    "name": "ipython",
    "version": 3
   },
   "file_extension": ".py",
   "mimetype": "text/x-python",
   "name": "python",
   "nbconvert_exporter": "python",
   "pygments_lexer": "ipython3",
   "version": "3.8.2"
  },
  "toc": {
   "base_numbering": 1,
   "nav_menu": {},
   "number_sections": true,
   "sideBar": true,
   "skip_h1_title": false,
   "title_cell": "Table of Contents",
   "title_sidebar": "Contents",
   "toc_cell": true,
   "toc_position": {},
   "toc_section_display": true,
   "toc_window_display": false
  }
 },
 "nbformat": 4,
 "nbformat_minor": 2
}
