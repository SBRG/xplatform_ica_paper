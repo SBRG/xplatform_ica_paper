{
 "cells": [
  {
   "cell_type": "markdown",
   "metadata": {
    "toc": true
   },
   "source": [
    "<h1>Table of Contents<span class=\"tocSkip\"></span></h1>\n",
    "<div class=\"toc\"><ul class=\"toc-item\"><li><span><a href=\"#Setup\" data-toc-modified-id=\"Setup-1\"><span class=\"toc-item-num\">1&nbsp;&nbsp;</span>Setup</a></span><ul class=\"toc-item\"><li><span><a href=\"#Load-data\" data-toc-modified-id=\"Load-data-1.1\"><span class=\"toc-item-num\">1.1&nbsp;&nbsp;</span>Load data</a></span></li></ul></li><li><span><a href=\"#Figure-5b---Categories-of-combined-iModulons\" data-toc-modified-id=\"Figure-5b---Categories-of-combined-iModulons-2\"><span class=\"toc-item-num\">2&nbsp;&nbsp;</span>Figure 5b - Categories of combined iModulons</a></span></li><li><span><a href=\"#Create-RBH-graph\" data-toc-modified-id=\"Create-RBH-graph-3\"><span class=\"toc-item-num\">3&nbsp;&nbsp;</span>Create RBH graph</a></span></li><li><span><a href=\"#Figure-5c---Presence/absence-of-iModulons\" data-toc-modified-id=\"Figure-5c---Presence/absence-of-iModulons-4\"><span class=\"toc-item-num\">4&nbsp;&nbsp;</span>Figure 5c - Presence/absence of iModulons</a></span></li><li><span><a href=\"#Figure-5d---Heatmap\" data-toc-modified-id=\"Figure-5d---Heatmap-5\"><span class=\"toc-item-num\">5&nbsp;&nbsp;</span>Figure 5d - Heatmap</a></span></li><li><span><a href=\"#Figure-5e---Explained-variance\" data-toc-modified-id=\"Figure-5e---Explained-variance-6\"><span class=\"toc-item-num\">6&nbsp;&nbsp;</span>Figure 5e - Explained variance</a></span></li><li><span><a href=\"#Figure-5f---ppGpp-Activities\" data-toc-modified-id=\"Figure-5f---ppGpp-Activities-7\"><span class=\"toc-item-num\">7&nbsp;&nbsp;</span>Figure 5f - ppGpp Activities</a></span></li><li><span><a href=\"#Figure-5g:-PCA-of-datasets\" data-toc-modified-id=\"Figure-5g:-PCA-of-datasets-8\"><span class=\"toc-item-num\">8&nbsp;&nbsp;</span>Figure 5g: PCA of datasets</a></span></li><li><span><a href=\"#Figure-5h:-PCA-of-activites\" data-toc-modified-id=\"Figure-5h:-PCA-of-activites-9\"><span class=\"toc-item-num\">9&nbsp;&nbsp;</span>Figure 5h: PCA of activites</a></span></li><li><span><a href=\"#Supplementary-Figure-7\" data-toc-modified-id=\"Supplementary-Figure-7-10\"><span class=\"toc-item-num\">10&nbsp;&nbsp;</span>Supplementary Figure 7</a></span><ul class=\"toc-item\"><li><span><a href=\"#Panel-a:-Explained-variance-of-lost-i-modulons\" data-toc-modified-id=\"Panel-a:-Explained-variance-of-lost-i-modulons-10.1\"><span class=\"toc-item-num\">10.1&nbsp;&nbsp;</span>Panel a: Explained variance of lost i-modulons</a></span></li><li><span><a href=\"#Panel-b:-Classes-of-new-i-modulons\" data-toc-modified-id=\"Panel-b:-Classes-of-new-i-modulons-10.2\"><span class=\"toc-item-num\">10.2&nbsp;&nbsp;</span>Panel b: Classes of new i-modulons</a></span></li><li><span><a href=\"#Panel-c:-Histogram-of-IC-gene-coefficients\" data-toc-modified-id=\"Panel-c:-Histogram-of-IC-gene-coefficients-10.3\"><span class=\"toc-item-num\">10.3&nbsp;&nbsp;</span>Panel c: Histogram of IC gene coefficients</a></span></li><li><span><a href=\"#Panel-e:-F1-score-chart\" data-toc-modified-id=\"Panel-e:-F1-score-chart-10.4\"><span class=\"toc-item-num\">10.4&nbsp;&nbsp;</span>Panel e: F1-score chart</a></span></li><li><span><a href=\"#Panel-f:-Pearson-R-between-activities\" data-toc-modified-id=\"Panel-f:-Pearson-R-between-activities-10.5\"><span class=\"toc-item-num\">10.5&nbsp;&nbsp;</span>Panel f: Pearson R between activities</a></span></li></ul></li><li><span><a href=\"#New-biological-component\" data-toc-modified-id=\"New-biological-component-11\"><span class=\"toc-item-num\">11&nbsp;&nbsp;</span>New biological component</a></span></li></ul></div>"
   ]
  },
  {
   "cell_type": "markdown",
   "metadata": {},
   "source": [
    "# Setup"
   ]
  },
  {
   "cell_type": "code",
   "execution_count": 1,
   "metadata": {},
   "outputs": [],
   "source": [
    "import matplotlib.pyplot as plt\n",
    "from tqdm.notebook import tqdm\n",
    "import pandas as pd\n",
    "import numpy as np\n",
    "import os, sys\n",
    "from itertools import combinations\n",
    "import seaborn as sns\n",
    "from matplotlib_venn import venn2\n",
    "from scipy import stats\n",
    "from sklearn.decomposition import PCA\n",
    "sys.path.append('../../scripts/')\n",
    "from core import *"
   ]
  },
  {
   "cell_type": "code",
   "execution_count": 2,
   "metadata": {},
   "outputs": [],
   "source": [
    "sns.set_style('ticks')"
   ]
  },
  {
   "cell_type": "code",
   "execution_count": 3,
   "metadata": {},
   "outputs": [],
   "source": [
    "# Use custom stylesheet for figures\n",
    "plt.style.use('custom')"
   ]
  },
  {
   "cell_type": "markdown",
   "metadata": {},
   "source": [
    "## Load data"
   ]
  },
  {
   "cell_type": "code",
   "execution_count": 7,
   "metadata": {},
   "outputs": [],
   "source": [
    "datasets = sorted([x for x in os.listdir(os.path.join(DATA_DIR,'iModulons'))\n",
    "            if '.' not in x])"
   ]
  },
  {
   "cell_type": "code",
   "execution_count": 8,
   "metadata": {},
   "outputs": [],
   "source": [
    "# Thresholds were obtained from sensitivity analysis\n",
    "cutoffs = {'MA-1': 550,\n",
    " 'MA-2': 600,\n",
    " 'MA-3': 350,\n",
    " 'RNAseq-1': 700,\n",
    " 'RNAseq-2': 300,\n",
    " 'combined': 400}"
   ]
  },
  {
   "cell_type": "code",
   "execution_count": 9,
   "metadata": {},
   "outputs": [],
   "source": [
    "def load(dataset):\n",
    "    # Define directories\n",
    "    ds_dir = os.path.join(DATA_DIR,'iModulons',dataset)\n",
    "    \n",
    "    # Define files\n",
    "    X_file = os.path.join(DATA_DIR,'processed_data',dataset+'_bc.csv')\n",
    "    M_file = os.path.join(ds_dir,'M.csv')\n",
    "    A_file = os.path.join(ds_dir,'A.csv')\n",
    "    metadata_file = os.path.join(DATA_DIR,'metadata',dataset+'_metadata.csv')\n",
    "    \n",
    "    return IcaData(M_file,A_file,X_file,metadata_file,cutoffs[dataset])"
   ]
  },
  {
   "cell_type": "code",
   "execution_count": 10,
   "metadata": {},
   "outputs": [
    {
     "data": {
      "application/vnd.jupyter.widget-view+json": {
       "model_id": "82c3405710fb4ee28625c1d2241bb40a",
       "version_major": 2,
       "version_minor": 0
      },
      "text/plain": [
       "HBox(children=(HTML(value=''), FloatProgress(value=0.0, max=6.0), HTML(value='')))"
      ]
     },
     "metadata": {},
     "output_type": "display_data"
    },
    {
     "name": "stdout",
     "output_type": "stream",
     "text": [
      "\n"
     ]
    }
   ],
   "source": [
    "# Load datasets\n",
    "objs = {}\n",
    "for ds in tqdm(datasets):\n",
    "    objs[ds] = load(ds)"
   ]
  },
  {
   "cell_type": "code",
   "execution_count": 11,
   "metadata": {},
   "outputs": [],
   "source": [
    "DF_categories = pd.read_csv(os.path.join(DATA_DIR,'iModulons','categories_curated.csv'),index_col=0)\n",
    "DF_categories.index = DF_categories.dataset.combine(DF_categories.component,lambda x1,x2:x1+'_'+str(x2))"
   ]
  },
  {
   "cell_type": "markdown",
   "metadata": {},
   "source": [
    "# Figure 5b - Categories of combined iModulons"
   ]
  },
  {
   "cell_type": "code",
   "execution_count": 12,
   "metadata": {},
   "outputs": [
    {
     "data": {
      "text/plain": [
       "regulatory         108\n",
       "uncharacterized     36\n",
       "functional          22\n",
       "genomic             15\n",
       "Name: type, dtype: int64"
      ]
     },
     "execution_count": 12,
     "metadata": {},
     "output_type": "execute_result"
    }
   ],
   "source": [
    "data = DF_categories[DF_categories.dataset=='combined'].type.value_counts()\n",
    "data"
   ]
  },
  {
   "cell_type": "code",
   "execution_count": 13,
   "metadata": {},
   "outputs": [
    {
     "data": {
      "text/plain": [
       "181"
      ]
     },
     "execution_count": 13,
     "metadata": {},
     "output_type": "execute_result"
    }
   ],
   "source": [
    "data.sum()"
   ]
  },
  {
   "cell_type": "code",
   "execution_count": 14,
   "metadata": {},
   "outputs": [
    {
     "data": {
      "text/plain": [
       "regulatory         0.596685\n",
       "uncharacterized    0.198895\n",
       "functional         0.121547\n",
       "genomic            0.082873\n",
       "Name: type, dtype: float64"
      ]
     },
     "execution_count": 14,
     "metadata": {},
     "output_type": "execute_result"
    }
   ],
   "source": [
    "data/data.sum()"
   ]
  },
  {
   "cell_type": "code",
   "execution_count": 15,
   "metadata": {},
   "outputs": [],
   "source": [
    "unchar_mod_lens = []\n",
    "mod_lens = []\n",
    "for k in objs['combined'].M.columns:\n",
    "    if DF_categories.loc['combined_'+str(k),'type']=='uncharacterized':\n",
    "        unchar_mod_lens.append(len(objs['combined'].show_enriched(k)))\n",
    "    else:\n",
    "        mod_lens.append(len(objs['combined'].show_enriched(k)))"
   ]
  },
  {
   "cell_type": "code",
   "execution_count": 16,
   "metadata": {
    "scrolled": false
   },
   "outputs": [
    {
     "data": {
      "image/png": "[encoded data removed]",
      "text/plain": [
       "<Figure size 450x375 with 1 Axes>"
      ]
     },
     "metadata": {},
     "output_type": "display_data"
    }
   ],
   "source": [
    "data = DF_categories[DF_categories.dataset=='combined'].type.value_counts()\n",
    "plt.pie(data.values,labels=data.index);"
   ]
  },
  {
   "cell_type": "markdown",
   "metadata": {},
   "source": [
    "# Create RBH graph"
   ]
  },
  {
   "cell_type": "code",
   "execution_count": 17,
   "metadata": {},
   "outputs": [],
   "source": [
    "from rbh import *"
   ]
  },
  {
   "cell_type": "code",
   "execution_count": 18,
   "metadata": {},
   "outputs": [
    {
     "name": "stderr",
     "output_type": "stream",
     "text": [
      "../../scripts/rbh.py:5: FutureWarning: Support for multi-dimensional indexing (e.g. `obj[:, None]`) is deprecated and will be removed in a future version.  Convert to a numpy array before indexing instead.\n",
      "  return np.dot(s1.T,s2)/np.sqrt((s1**2).sum())[:, np.newaxis]/np.sqrt((s2**2).sum())[np.newaxis,:]\n"
     ]
    }
   ],
   "source": [
    "l2s = []\n",
    "for ds in datasets[:-1]:\n",
    "    links = rbh(objs['combined'].M,objs[ds].M)\n",
    "    for i,j,val in links:\n",
    "        comp1 = 'combined'+'_'+str(i)\n",
    "        comp2 = ds+'_'+str(j)\n",
    "        class1 = DF_categories.loc[comp1,'type']\n",
    "        class2 = DF_categories.loc[comp2,'type']\n",
    "        desc1 = DF_categories.loc[comp1,'description']\n",
    "        desc2 = DF_categories.loc[comp2,'description']\n",
    "        l2s.append(['combined',ds,i,j,comp1,comp2,class1,class2,desc1,desc2,1-val])\n",
    "DF_links = pd.DataFrame(l2s,columns=['ds1','ds2','comp1','comp2','name1','name2','type1','type2','desc1','desc2','dist'])\n",
    "DF_links = DF_links[DF_links.dist > 0.3]"
   ]
  },
  {
   "cell_type": "code",
   "execution_count": 19,
   "metadata": {},
   "outputs": [],
   "source": [
    "DF_links = DF_links.sort_values(['ds1','comp1','ds2'])"
   ]
  },
  {
   "cell_type": "code",
   "execution_count": 20,
   "metadata": {},
   "outputs": [
    {
     "data": {
      "text/plain": [
       "combined_147    4\n",
       "combined_82     3\n",
       "combined_157    3\n",
       "combined_44     2\n",
       "combined_45     2\n",
       "combined_13     2\n",
       "combined_27     2\n",
       "combined_35     2\n",
       "combined_71     2\n",
       "combined_121    2\n",
       "combined_11     2\n",
       "combined_21     1\n",
       "combined_180    1\n",
       "combined_139    1\n",
       "combined_90     1\n",
       "combined_6      1\n",
       "combined_107    1\n",
       "combined_177    1\n",
       "combined_77     1\n",
       "combined_43     1\n",
       "Name: name1, dtype: int64"
      ]
     },
     "execution_count": 20,
     "metadata": {},
     "output_type": "execute_result"
    }
   ],
   "source": [
    "DF_links[DF_links.type1 == 'uncharacterized'].name1.value_counts()"
   ]
  },
  {
   "cell_type": "code",
   "execution_count": 21,
   "metadata": {},
   "outputs": [
    {
     "data": {
      "text/plain": [
       "ds2\n",
       "MA-1        51\n",
       "MA-2        44\n",
       "MA-3        19\n",
       "RNAseq-1    87\n",
       "RNAseq-2    43\n",
       "Name: ds1, dtype: int64"
      ]
     },
     "execution_count": 21,
     "metadata": {},
     "output_type": "execute_result"
    }
   ],
   "source": [
    "# Total links between full dataset and individual datasets\n",
    "DF_links.groupby('ds2').count()['ds1']"
   ]
  },
  {
   "cell_type": "code",
   "execution_count": 22,
   "metadata": {},
   "outputs": [],
   "source": [
    "# Average distance between full dataset and individual datasets\n",
    "means = DF_links.groupby('ds2').mean()['dist']\n",
    "stds = DF_links.groupby('ds2').std()['dist']"
   ]
  },
  {
   "cell_type": "code",
   "execution_count": 23,
   "metadata": {},
   "outputs": [],
   "source": [
    "DF_links.to_csv(os.path.join(DATA_DIR,'iModulons','RBH_combined.csv'))"
   ]
  },
  {
   "cell_type": "code",
   "execution_count": 24,
   "metadata": {},
   "outputs": [
    {
     "data": {
      "text/html": [
       "<div>\n",
       "<style scoped>\n",
       "    .dataframe tbody tr th:only-of-type {\n",
       "        vertical-align: middle;\n",
       "    }\n",
       "\n",
       "    .dataframe tbody tr th {\n",
       "        vertical-align: top;\n",
       "    }\n",
       "\n",
       "    .dataframe thead th {\n",
       "        text-align: right;\n",
       "    }\n",
       "</style>\n",
       "<table border=\"1\" class=\"dataframe\">\n",
       "  <thead>\n",
       "    <tr style=\"text-align: right;\">\n",
       "      <th></th>\n",
       "      <th>ds1</th>\n",
       "      <th>ds2</th>\n",
       "      <th>comp1</th>\n",
       "      <th>comp2</th>\n",
       "      <th>name1</th>\n",
       "      <th>name2</th>\n",
       "      <th>type1</th>\n",
       "      <th>type2</th>\n",
       "      <th>desc1</th>\n",
       "      <th>desc2</th>\n",
       "      <th>dist</th>\n",
       "    </tr>\n",
       "  </thead>\n",
       "  <tbody>\n",
       "    <tr>\n",
       "      <th>138</th>\n",
       "      <td>combined</td>\n",
       "      <td>RNAseq-1</td>\n",
       "      <td>0</td>\n",
       "      <td>24</td>\n",
       "      <td>combined_0</td>\n",
       "      <td>RNAseq-1_24</td>\n",
       "      <td>regulatory</td>\n",
       "      <td>regulatory</td>\n",
       "      <td>lrp</td>\n",
       "      <td>lrp</td>\n",
       "      <td>0.733699</td>\n",
       "    </tr>\n",
       "    <tr>\n",
       "      <th>0</th>\n",
       "      <td>combined</td>\n",
       "      <td>MA-1</td>\n",
       "      <td>1</td>\n",
       "      <td>36</td>\n",
       "      <td>combined_1</td>\n",
       "      <td>MA-1_36</td>\n",
       "      <td>regulatory</td>\n",
       "      <td>regulatory</td>\n",
       "      <td>tdcR</td>\n",
       "      <td>tdcR</td>\n",
       "      <td>0.560505</td>\n",
       "    </tr>\n",
       "    <tr>\n",
       "      <th>60</th>\n",
       "      <td>combined</td>\n",
       "      <td>MA-2</td>\n",
       "      <td>1</td>\n",
       "      <td>39</td>\n",
       "      <td>combined_1</td>\n",
       "      <td>MA-2_39</td>\n",
       "      <td>regulatory</td>\n",
       "      <td>regulatory</td>\n",
       "      <td>tdcR</td>\n",
       "      <td>tdcA</td>\n",
       "      <td>0.455823</td>\n",
       "    </tr>\n",
       "    <tr>\n",
       "      <th>228</th>\n",
       "      <td>combined</td>\n",
       "      <td>RNAseq-2</td>\n",
       "      <td>1</td>\n",
       "      <td>50</td>\n",
       "      <td>combined_1</td>\n",
       "      <td>RNAseq-2_50</td>\n",
       "      <td>regulatory</td>\n",
       "      <td>regulatory</td>\n",
       "      <td>tdcR</td>\n",
       "      <td>tdcA</td>\n",
       "      <td>0.513089</td>\n",
       "    </tr>\n",
       "    <tr>\n",
       "      <th>139</th>\n",
       "      <td>combined</td>\n",
       "      <td>RNAseq-1</td>\n",
       "      <td>2</td>\n",
       "      <td>12</td>\n",
       "      <td>combined_2</td>\n",
       "      <td>RNAseq-1_12</td>\n",
       "      <td>genomic</td>\n",
       "      <td>genomic</td>\n",
       "      <td>b3751|b1337|b1338|b1339|b1340|b1341|b1342|b134...</td>\n",
       "      <td>b3751|b1337|b1338|b1339|b1340|b1341|b1342|b134...</td>\n",
       "      <td>0.937527</td>\n",
       "    </tr>\n",
       "    <tr>\n",
       "      <th>...</th>\n",
       "      <td>...</td>\n",
       "      <td>...</td>\n",
       "      <td>...</td>\n",
       "      <td>...</td>\n",
       "      <td>...</td>\n",
       "      <td>...</td>\n",
       "      <td>...</td>\n",
       "      <td>...</td>\n",
       "      <td>...</td>\n",
       "      <td>...</td>\n",
       "      <td>...</td>\n",
       "    </tr>\n",
       "    <tr>\n",
       "      <th>275</th>\n",
       "      <td>combined</td>\n",
       "      <td>RNAseq-2</td>\n",
       "      <td>173</td>\n",
       "      <td>49</td>\n",
       "      <td>combined_173</td>\n",
       "      <td>RNAseq-2_49</td>\n",
       "      <td>functional</td>\n",
       "      <td>uncharacterized</td>\n",
       "      <td>L-arginine import across plasma membrane</td>\n",
       "      <td>NaN</td>\n",
       "      <td>0.589533</td>\n",
       "    </tr>\n",
       "    <tr>\n",
       "      <th>226</th>\n",
       "      <td>combined</td>\n",
       "      <td>RNAseq-1</td>\n",
       "      <td>174</td>\n",
       "      <td>39</td>\n",
       "      <td>combined_174</td>\n",
       "      <td>RNAseq-1_39</td>\n",
       "      <td>functional</td>\n",
       "      <td>functional</td>\n",
       "      <td>cytosolic large ribosomal subunit</td>\n",
       "      <td>cytosolic large ribosomal subunit</td>\n",
       "      <td>0.914878</td>\n",
       "    </tr>\n",
       "    <tr>\n",
       "      <th>227</th>\n",
       "      <td>combined</td>\n",
       "      <td>RNAseq-1</td>\n",
       "      <td>175</td>\n",
       "      <td>86</td>\n",
       "      <td>combined_175</td>\n",
       "      <td>RNAseq-1_86</td>\n",
       "      <td>genomic</td>\n",
       "      <td>genomic</td>\n",
       "      <td>b1658</td>\n",
       "      <td>b1658|b4252</td>\n",
       "      <td>0.410324</td>\n",
       "    </tr>\n",
       "    <tr>\n",
       "      <th>276</th>\n",
       "      <td>combined</td>\n",
       "      <td>RNAseq-2</td>\n",
       "      <td>177</td>\n",
       "      <td>11</td>\n",
       "      <td>combined_177</td>\n",
       "      <td>RNAseq-2_11</td>\n",
       "      <td>uncharacterized</td>\n",
       "      <td>regulatory</td>\n",
       "      <td>NaN</td>\n",
       "      <td>lrp</td>\n",
       "      <td>0.507412</td>\n",
       "    </tr>\n",
       "    <tr>\n",
       "      <th>111</th>\n",
       "      <td>combined</td>\n",
       "      <td>MA-2</td>\n",
       "      <td>180</td>\n",
       "      <td>9</td>\n",
       "      <td>combined_180</td>\n",
       "      <td>MA-2_9</td>\n",
       "      <td>uncharacterized</td>\n",
       "      <td>uncharacterized</td>\n",
       "      <td>NaN</td>\n",
       "      <td>NaN</td>\n",
       "      <td>0.355245</td>\n",
       "    </tr>\n",
       "  </tbody>\n",
       "</table>\n",
       "<p>244 rows × 11 columns</p>\n",
       "</div>"
      ],
      "text/plain": [
       "          ds1       ds2  comp1  comp2         name1        name2  \\\n",
       "138  combined  RNAseq-1      0     24    combined_0  RNAseq-1_24   \n",
       "0    combined      MA-1      1     36    combined_1      MA-1_36   \n",
       "60   combined      MA-2      1     39    combined_1      MA-2_39   \n",
       "228  combined  RNAseq-2      1     50    combined_1  RNAseq-2_50   \n",
       "139  combined  RNAseq-1      2     12    combined_2  RNAseq-1_12   \n",
       "..        ...       ...    ...    ...           ...          ...   \n",
       "275  combined  RNAseq-2    173     49  combined_173  RNAseq-2_49   \n",
       "226  combined  RNAseq-1    174     39  combined_174  RNAseq-1_39   \n",
       "227  combined  RNAseq-1    175     86  combined_175  RNAseq-1_86   \n",
       "276  combined  RNAseq-2    177     11  combined_177  RNAseq-2_11   \n",
       "111  combined      MA-2    180      9  combined_180       MA-2_9   \n",
       "\n",
       "               type1            type2  \\\n",
       "138       regulatory       regulatory   \n",
       "0         regulatory       regulatory   \n",
       "60        regulatory       regulatory   \n",
       "228       regulatory       regulatory   \n",
       "139          genomic          genomic   \n",
       "..               ...              ...   \n",
       "275       functional  uncharacterized   \n",
       "226       functional       functional   \n",
       "227          genomic          genomic   \n",
       "276  uncharacterized       regulatory   \n",
       "111  uncharacterized  uncharacterized   \n",
       "\n",
       "                                                 desc1  \\\n",
       "138                                                lrp   \n",
       "0                                                 tdcR   \n",
       "60                                                tdcR   \n",
       "228                                               tdcR   \n",
       "139  b3751|b1337|b1338|b1339|b1340|b1341|b1342|b134...   \n",
       "..                                                 ...   \n",
       "275           L-arginine import across plasma membrane   \n",
       "226                  cytosolic large ribosomal subunit   \n",
       "227                                              b1658   \n",
       "276                                                NaN   \n",
       "111                                                NaN   \n",
       "\n",
       "                                                 desc2      dist  \n",
       "138                                                lrp  0.733699  \n",
       "0                                                 tdcR  0.560505  \n",
       "60                                                tdcA  0.455823  \n",
       "228                                               tdcA  0.513089  \n",
       "139  b3751|b1337|b1338|b1339|b1340|b1341|b1342|b134...  0.937527  \n",
       "..                                                 ...       ...  \n",
       "275                                                NaN  0.589533  \n",
       "226                  cytosolic large ribosomal subunit  0.914878  \n",
       "227                                        b1658|b4252  0.410324  \n",
       "276                                                lrp  0.507412  \n",
       "111                                                NaN  0.355245  \n",
       "\n",
       "[244 rows x 11 columns]"
      ]
     },
     "execution_count": 24,
     "metadata": {},
     "output_type": "execute_result"
    }
   ],
   "source": [
    "DF_links"
   ]
  },
  {
   "cell_type": "markdown",
   "metadata": {},
   "source": [
    "# Figure 5c - Presence/absence of iModulons"
   ]
  },
  {
   "cell_type": "code",
   "execution_count": 25,
   "metadata": {},
   "outputs": [],
   "source": [
    "index = objs['combined'].M.columns"
   ]
  },
  {
   "cell_type": "code",
   "execution_count": 26,
   "metadata": {},
   "outputs": [],
   "source": [
    "type_dict = {'regulatory':-2,'functional':-3,'genomic':-4,'uncharacterized':-5}"
   ]
  },
  {
   "cell_type": "code",
   "execution_count": 27,
   "metadata": {},
   "outputs": [],
   "source": [
    "DF_binarized = pd.DataFrame([1]*len(index),index=index,columns=['Combined Compendium'])\n",
    "for ds in datasets[:-1]:\n",
    "    DF_binarized[ds] = [x in DF_links[DF_links.ds2==ds].comp1.tolist() for x in index]\n",
    "DF_binarized = DF_binarized.astype(int)\n",
    "\n",
    "DF_binarized['total'] = DF_binarized.sum(axis=1)\n",
    "\n",
    "DF_binarized = (DF_binarized-1)\n",
    "DF_binarized = DF_binarized[['RNAseq-1','RNAseq-2','MA-1','MA-2','MA-3','total']]"
   ]
  },
  {
   "cell_type": "code",
   "execution_count": 28,
   "metadata": {},
   "outputs": [],
   "source": [
    "DF_binarized['type'] = [type_dict[DF_categories.loc['combined_'+str(k)].type] for k in DF_binarized.index]"
   ]
  },
  {
   "cell_type": "code",
   "execution_count": 29,
   "metadata": {},
   "outputs": [],
   "source": [
    "DF_binarized = DF_binarized.sort_values(['total','RNAseq-1','RNAseq-2','MA-1','MA-2','MA-3','type'],ascending=False)"
   ]
  },
  {
   "cell_type": "code",
   "execution_count": 30,
   "metadata": {},
   "outputs": [],
   "source": [
    "cmap = ['#b4d66c','#bc80b7','#81b1d3','#f47f72'] + ['white','black'] + sns.color_palette('Blues',5)"
   ]
  },
  {
   "cell_type": "code",
   "execution_count": 31,
   "metadata": {},
   "outputs": [],
   "source": [
    "bin_counts = DF_binarized.groupby(['total','type']).size().unstack(fill_value=0).T.sort_index(ascending=False)\n",
    "bin_counts = bin_counts\n",
    "bin_counts.index = ['regulatory','biological','genomic','uncharacterized']"
   ]
  },
  {
   "cell_type": "code",
   "execution_count": 32,
   "metadata": {},
   "outputs": [
    {
     "data": {
      "text/plain": [
       "<matplotlib.legend.Legend at 0x7f1ebeaff760>"
      ]
     },
     "execution_count": 32,
     "metadata": {},
     "output_type": "execute_result"
    },
    {
     "data": {
      "image/png": "[encoded data removed]",
      "text/plain": [
       "<Figure size 450x375 with 1 Axes>"
      ]
     },
     "metadata": {},
     "output_type": "display_data"
    }
   ],
   "source": [
    "bin_counts.T.plot.bar(stacked=True)\n",
    "plt.legend(bbox_to_anchor=(1,1))"
   ]
  },
  {
   "cell_type": "code",
   "execution_count": 33,
   "metadata": {},
   "outputs": [
    {
     "name": "stdout",
     "output_type": "stream",
     "text": [
      "Number of comps: 181\n",
      "Number of linked comps: 137 (0.76)\n"
     ]
    }
   ],
   "source": [
    "print('Number of comps:',len(DF_binarized))\n",
    "print('Number of linked comps: {} ({:.2f})'.format(sum(DF_binarized.total > 0),\n",
    "                                       sum(DF_binarized.total > 0)/len(DF_binarized)))"
   ]
  },
  {
   "cell_type": "code",
   "execution_count": 34,
   "metadata": {},
   "outputs": [
    {
     "name": "stdout",
     "output_type": "stream",
     "text": [
      "Number of linked comps: 58 (0.32)\n"
     ]
    }
   ],
   "source": [
    "print('Number of linked comps: {} ({:.2f})'.format(sum(DF_binarized.total >1),\n",
    "                                       sum(DF_binarized.total > 1)/len(DF_binarized)))"
   ]
  },
  {
   "cell_type": "code",
   "execution_count": 35,
   "metadata": {},
   "outputs": [
    {
     "data": {
      "image/png": "[encoded data removed]",
      "text/plain": [
       "<Figure size 600x225 with 2 Axes>"
      ]
     },
     "metadata": {},
     "output_type": "display_data"
    }
   ],
   "source": [
    "fig,ax = plt.subplots(figsize=(4,1.5))\n",
    "sns.heatmap(DF_binarized.T,cmap=cmap,ax=ax)\n",
    "ax.set_xticks(np.arange(len(DF_binarized),step=20));\n",
    "ax.tick_params(axis='x',reset=True,length=3,width=.5,color='k',top=False)\n",
    "ax.set_xticklabels(np.arange(len(DF_binarized),step=20),);"
   ]
  },
  {
   "cell_type": "markdown",
   "metadata": {},
   "source": [
    "# Figure 5d - Heatmap"
   ]
  },
  {
   "cell_type": "code",
   "execution_count": 36,
   "metadata": {},
   "outputs": [
    {
     "data": {
      "text/plain": [
       "<AxesSubplot:xlabel='type', ylabel='dataset'>"
      ]
     },
     "execution_count": 36,
     "metadata": {},
     "output_type": "execute_result"
    },
    {
     "data": {
      "image/png": "[encoded data removed]",
      "text/plain": [
       "<Figure size 315x195 with 2 Axes>"
      ]
     },
     "metadata": {},
     "output_type": "display_data"
    }
   ],
   "source": [
    "fig,ax = plt.subplots(figsize=(2.1,1.3))\n",
    "\n",
    "DF_types = DF_categories.groupby(['dataset','type']).count().component.unstack().fillna(0).drop('combined')\n",
    "DF_types.loc['Total'] = DF_types.sum(axis=0)\n",
    "DF_types['Total'] = DF_types.sum(axis=1)\n",
    "\n",
    "DF_types_linked = DF_links.groupby(['ds2','type2']).count().comp1.unstack().fillna(0)\n",
    "DF_types_linked.loc['Total'] = DF_types_linked.sum(axis=0)\n",
    "DF_types_linked['Total'] = DF_types_linked.sum(axis=1)\n",
    "\n",
    "DF_types_lost = DF_types - DF_types_linked\n",
    "\n",
    "DF_text = pd.DataFrame()\n",
    "for col in DF_types_lost:\n",
    "    DF_text[col] = DF_types_lost[col].astype(int).astype(str).str.cat(DF_types[col].astype(int).astype(str),sep='/')\n",
    "DF_text = DF_text[['regulatory','functional','genomic','uncharacterized','Total']]\n",
    "\n",
    "type_grid = (DF_types_lost/DF_types).fillna(0)[['regulatory','functional','genomic','uncharacterized','Total']]\n",
    "\n",
    "type_grid = type_grid.reindex(['RNAseq-1','RNAseq-2','MA-1','MA-2','MA-3','Total'])\n",
    "DF_text = DF_text.reindex(['RNAseq-1','RNAseq-2','MA-1','MA-2','MA-3','Total'])\n",
    "\n",
    "sns.heatmap(type_grid,cmap='Blues',annot=DF_text,fmt='s',annot_kws={\"size\": 5})"
   ]
  },
  {
   "cell_type": "code",
   "execution_count": 37,
   "metadata": {},
   "outputs": [
    {
     "data": {
      "text/html": [
       "<div>\n",
       "<style scoped>\n",
       "    .dataframe tbody tr th:only-of-type {\n",
       "        vertical-align: middle;\n",
       "    }\n",
       "\n",
       "    .dataframe tbody tr th {\n",
       "        vertical-align: top;\n",
       "    }\n",
       "\n",
       "    .dataframe thead th {\n",
       "        text-align: right;\n",
       "    }\n",
       "</style>\n",
       "<table border=\"1\" class=\"dataframe\">\n",
       "  <thead>\n",
       "    <tr style=\"text-align: right;\">\n",
       "      <th>type</th>\n",
       "      <th>functional</th>\n",
       "      <th>genomic</th>\n",
       "      <th>regulatory</th>\n",
       "      <th>uncharacterized</th>\n",
       "      <th>Total</th>\n",
       "    </tr>\n",
       "    <tr>\n",
       "      <th>dataset</th>\n",
       "      <th></th>\n",
       "      <th></th>\n",
       "      <th></th>\n",
       "      <th></th>\n",
       "      <th></th>\n",
       "    </tr>\n",
       "  </thead>\n",
       "  <tbody>\n",
       "    <tr>\n",
       "      <th>MA-1</th>\n",
       "      <td>4.0</td>\n",
       "      <td>24.0</td>\n",
       "      <td>1.0</td>\n",
       "      <td>23.0</td>\n",
       "      <td>52.0</td>\n",
       "    </tr>\n",
       "    <tr>\n",
       "      <th>MA-2</th>\n",
       "      <td>1.0</td>\n",
       "      <td>0.0</td>\n",
       "      <td>1.0</td>\n",
       "      <td>12.0</td>\n",
       "      <td>14.0</td>\n",
       "    </tr>\n",
       "    <tr>\n",
       "      <th>MA-3</th>\n",
       "      <td>0.0</td>\n",
       "      <td>0.0</td>\n",
       "      <td>0.0</td>\n",
       "      <td>13.0</td>\n",
       "      <td>13.0</td>\n",
       "    </tr>\n",
       "    <tr>\n",
       "      <th>RNAseq-1</th>\n",
       "      <td>0.0</td>\n",
       "      <td>0.0</td>\n",
       "      <td>1.0</td>\n",
       "      <td>3.0</td>\n",
       "      <td>4.0</td>\n",
       "    </tr>\n",
       "    <tr>\n",
       "      <th>RNAseq-2</th>\n",
       "      <td>1.0</td>\n",
       "      <td>1.0</td>\n",
       "      <td>1.0</td>\n",
       "      <td>6.0</td>\n",
       "      <td>9.0</td>\n",
       "    </tr>\n",
       "    <tr>\n",
       "      <th>Total</th>\n",
       "      <td>6.0</td>\n",
       "      <td>25.0</td>\n",
       "      <td>4.0</td>\n",
       "      <td>57.0</td>\n",
       "      <td>92.0</td>\n",
       "    </tr>\n",
       "  </tbody>\n",
       "</table>\n",
       "</div>"
      ],
      "text/plain": [
       "type      functional  genomic  regulatory  uncharacterized  Total\n",
       "dataset                                                          \n",
       "MA-1             4.0     24.0         1.0             23.0   52.0\n",
       "MA-2             1.0      0.0         1.0             12.0   14.0\n",
       "MA-3             0.0      0.0         0.0             13.0   13.0\n",
       "RNAseq-1         0.0      0.0         1.0              3.0    4.0\n",
       "RNAseq-2         1.0      1.0         1.0              6.0    9.0\n",
       "Total            6.0     25.0         4.0             57.0   92.0"
      ]
     },
     "execution_count": 37,
     "metadata": {},
     "output_type": "execute_result"
    }
   ],
   "source": [
    "# Types lost\n",
    "DF_lost = DF_types- DF_types_linked\n",
    "DF_lost"
   ]
  },
  {
   "cell_type": "code",
   "execution_count": 38,
   "metadata": {},
   "outputs": [
    {
     "data": {
      "text/plain": [
       "type2\n",
       "functional          28.0\n",
       "genomic             17.0\n",
       "regulatory         165.0\n",
       "uncharacterized     34.0\n",
       "Total              244.0\n",
       "Name: Total, dtype: float64"
      ]
     },
     "execution_count": 38,
     "metadata": {},
     "output_type": "execute_result"
    }
   ],
   "source": [
    "DF_types_linked.loc['Total']"
   ]
  },
  {
   "cell_type": "code",
   "execution_count": 39,
   "metadata": {},
   "outputs": [
    {
     "data": {
      "text/plain": [
       "type2\n",
       "functional         0.114754\n",
       "genomic            0.069672\n",
       "regulatory         0.676230\n",
       "uncharacterized    0.139344\n",
       "Total              1.000000\n",
       "Name: Total, dtype: float64"
      ]
     },
     "execution_count": 39,
     "metadata": {},
     "output_type": "execute_result"
    }
   ],
   "source": [
    "DF_types_linked.loc['Total']/DF_types_linked.loc['Total'].iloc[:-1].sum()"
   ]
  },
  {
   "cell_type": "markdown",
   "metadata": {},
   "source": [
    "# Figure 5e - Explained variance"
   ]
  },
  {
   "cell_type": "code",
   "execution_count": 43,
   "metadata": {},
   "outputs": [
    {
     "data": {
      "text/plain": [
       "757"
      ]
     },
     "execution_count": 43,
     "metadata": {},
     "output_type": "execute_result"
    }
   ],
   "source": [
    "# Load dataset - Downloaded from Sanchez-Vasquez et al 2019\n",
    "DF_ppGpp = pd.read_excel(os.path.join(DATA_DIR,'ppGpp_data','dataset_s01_from_sanchez_vasquez_2019.xlsx'),sheet_name='Data')\n",
    "\n",
    "# Get 757 genes described to be directly regulated by ppGpp\n",
    "paper_genes = DF_ppGpp[DF_ppGpp['1+2+ 5 min Category'].isin(['A','B'])].Synonym.values\n",
    "len(paper_genes)"
   ]
  },
  {
   "cell_type": "code",
   "execution_count": 44,
   "metadata": {},
   "outputs": [],
   "source": [
    "paper_genes_down = DF_ppGpp[DF_ppGpp['1+2+ 5 min Category'].isin(['A'])].Synonym.values"
   ]
  },
  {
   "cell_type": "code",
   "execution_count": 45,
   "metadata": {},
   "outputs": [],
   "source": [
    "paper_genes_up = DF_ppGpp[DF_ppGpp['1+2+ 5 min Category'].isin(['B'])].Synonym.values"
   ]
  },
  {
   "cell_type": "code",
   "execution_count": 49,
   "metadata": {},
   "outputs": [
    {
     "data": {
      "text/plain": [
       "<matplotlib_venn._common.VennDiagram at 0x7f1ec4b35f10>"
      ]
     },
     "execution_count": 49,
     "metadata": {},
     "output_type": "execute_result"
    },
    {
     "data": {
      "image/png": "[encoded data removed]",
      "text/plain": [
       "<Figure size 450x375 with 1 Axes>"
      ]
     },
     "metadata": {},
     "output_type": "display_data"
    }
   ],
   "source": [
    "venn2((set(paper_genes_down),set(objs['combined'].show_enriched(147).index)),set_labels=('Genes downregulated from ppGpp binding to RNAP','Genes in Central Dogma I-modulon'))"
   ]
  },
  {
   "cell_type": "code",
   "execution_count": 52,
   "metadata": {},
   "outputs": [],
   "source": [
    "pp_genes = {}\n",
    "for k in objs['combined'].M.columns:\n",
    "    pp_genes[k] = set(objs['combined'].show_enriched(k).index) & set(paper_genes)"
   ]
  },
  {
   "cell_type": "code",
   "execution_count": 54,
   "metadata": {},
   "outputs": [
    {
     "data": {
      "text/plain": [
       "{'b0142', 'b1435', 'b1660', 'b2069', 'b3643_1', 'b3778'}"
      ]
     },
     "execution_count": 54,
     "metadata": {},
     "output_type": "execute_result"
    }
   ],
   "source": [
    "set(objs['combined'].show_enriched(147).index) - set(paper_genes)"
   ]
  },
  {
   "cell_type": "markdown",
   "metadata": {},
   "source": [
    "# Figure 5f - ppGpp Activities"
   ]
  },
  {
   "cell_type": "code",
   "execution_count": 56,
   "metadata": {},
   "outputs": [],
   "source": [
    "ppGpp_X = pd.read_csv(os.path.join(DATA_DIR,'ppGpp_data','log_tpm_norm.csv'),index_col=0)\n",
    "\n",
    "# Get genes in both ICA data and ppGpp dataframe\n",
    "shared_genes = sorted(set(objs['combined'].X.index) & set(ppGpp_X.index))\n",
    "\n",
    "# Keep only genes in both dataframes\n",
    "ppGpp_X = ppGpp_X.loc[shared_genes]\n",
    "M = objs['combined'].M.loc[shared_genes]\n",
    "\n",
    "# Center columns\n",
    "X = ppGpp_X.sub(ppGpp_X.mean(axis=0))"
   ]
  },
  {
   "cell_type": "code",
   "execution_count": 57,
   "metadata": {},
   "outputs": [],
   "source": [
    "# Perform projection\n",
    "M_inv = np.linalg.pinv(M)\n",
    "A = np.dot(M_inv,X)\n",
    "A = pd.DataFrame(A,columns = X.columns, index = M.columns)"
   ]
  },
  {
   "cell_type": "code",
   "execution_count": 58,
   "metadata": {},
   "outputs": [],
   "source": [
    "t0 = ['ppgpp__t0__1','ppgpp__t0__2','ppgpp__t0__3']\n",
    "t5 = ['ppgpp__t5__1','ppgpp__t5__2','ppgpp__t5__3']"
   ]
  },
  {
   "cell_type": "code",
   "execution_count": 62,
   "metadata": {},
   "outputs": [
    {
     "data": {
      "image/png": "[encoded data removed]",
      "text/plain": [
       "<Figure size 300x300 with 1 Axes>"
      ]
     },
     "metadata": {},
     "output_type": "display_data"
    }
   ],
   "source": [
    "ds4 = objs['combined'].metadata[objs['combined'].metadata['dataset'] == 'RNAseq-1'].index\n",
    "df = pd.DataFrame(objs['combined'].A.loc[147,ds4])\n",
    "df['group'] = ['RpoB\\nE672K' if 'rpoBE672K' in x else 'RpoB\\nE546V' if 'rpoBE546V' in x else 'WT RpoB' for x in df.index]\n",
    "\n",
    "fig,ax = plt.subplots(figsize=(2,2))\n",
    "sns.boxplot(data=df,y=147,x='group')\n",
    "sns.stripplot(data=df,y=147,x='group',dodge=True,color='k',jitter=0.3,s=3)\n",
    "ax.set_ylabel('Central Dogma\\nI-modulon Activity',fontsize=7)\n",
    "ax.set_xlabel('Carbon Source',fontsize=7)\n",
    "ax.tick_params(labelsize=5)\n",
    "plt.tight_layout()"
   ]
  },
  {
   "cell_type": "markdown",
   "metadata": {},
   "source": [
    "# Figure 5g: PCA of datasets"
   ]
  },
  {
   "cell_type": "code",
   "execution_count": 65,
   "metadata": {},
   "outputs": [],
   "source": [
    "cdict = dict(zip(datasets[:-1],['tab:orange','black','tab:red','tab:green','tab:blue']))"
   ]
  },
  {
   "cell_type": "code",
   "execution_count": 69,
   "metadata": {},
   "outputs": [],
   "source": [
    "exp_data = pd.read_csv(os.path.join(DATA_DIR,'processed_data','combined_bc.csv'),index_col=0)\n",
    "\n",
    "pca = PCA()\n",
    "DF_weights = pd.DataFrame(pca.fit_transform(exp_data.T),index=exp_data.columns)\n",
    "DF_components = pd.DataFrame(pca.components_.T,index=exp_data.index)\n",
    "var_cutoff = 0.99"
   ]
  },
  {
   "cell_type": "code",
   "execution_count": 70,
   "metadata": {},
   "outputs": [
    {
     "data": {
      "text/plain": [
       "<matplotlib.legend.Legend at 0x7f1ebb617580>"
      ]
     },
     "execution_count": 70,
     "metadata": {},
     "output_type": "execute_result"
    },
    {
     "data": {
      "image/png": "[encoded data removed]",
      "text/plain": [
       "<Figure size 225x225 with 1 Axes>"
      ]
     },
     "metadata": {},
     "output_type": "display_data"
    }
   ],
   "source": [
    "fig,ax = plt.subplots(figsize=(1.5,1.5))\n",
    "for name,group in objs['combined'].metadata.groupby('dataset'):\n",
    "    idx = exp_data.loc[:,group.index.tolist()].columns.tolist()\n",
    "    ax.scatter(DF_weights.loc[idx,0],\n",
    "               DF_weights.loc[idx,1],\n",
    "               c=cdict[name],\n",
    "               label=name,alpha=0.8,s=3)\n",
    "ax.set_xlabel('Component 1: %.1f%%'%(pca.explained_variance_ratio_[0]*100))\n",
    "ax.set_ylabel('Component 2: %.1f%%'%(pca.explained_variance_ratio_[1]*100))\n",
    "ax.legend(bbox_to_anchor=(1,-.2),ncol=2)"
   ]
  },
  {
   "cell_type": "markdown",
   "metadata": {},
   "source": [
    "# Figure 5h: PCA of activites"
   ]
  },
  {
   "cell_type": "code",
   "execution_count": 75,
   "metadata": {
    "scrolled": true
   },
   "outputs": [],
   "source": [
    "pca = PCA()\n",
    "DF_weights = pd.DataFrame(pca.fit_transform(objs['combined'].A.T),index=objs['combined'].A.columns)\n",
    "DF_components = pd.DataFrame(pca.components_.T,index=objs['combined'].A.index)\n",
    "var_cutoff = 0.99"
   ]
  },
  {
   "cell_type": "code",
   "execution_count": 76,
   "metadata": {},
   "outputs": [
    {
     "data": {
      "text/plain": [
       "<matplotlib.legend.Legend at 0x7f1ec4326c70>"
      ]
     },
     "execution_count": 76,
     "metadata": {},
     "output_type": "execute_result"
    },
    {
     "data": {
      "image/png": "[encoded data removed]",
      "text/plain": [
       "<Figure size 225x225 with 1 Axes>"
      ]
     },
     "metadata": {},
     "output_type": "display_data"
    }
   ],
   "source": [
    "fig,ax = plt.subplots(figsize=(1.5,1.5))\n",
    "for name,group in objs['combined'].metadata.groupby('dataset'):\n",
    "    idx = exp_data.loc[:,group.index.tolist()].columns.tolist()\n",
    "    ax.scatter(DF_weights.loc[idx,0],\n",
    "               DF_weights.loc[idx,1],\n",
    "               c=cdict[name],\n",
    "               label=name,alpha=0.8,s=3)\n",
    "ax.set_xlabel('Component 1: %.1f%%'%(pca.explained_variance_ratio_[0]*100))\n",
    "ax.set_ylabel('Component 2: %.1f%%'%(pca.explained_variance_ratio_[1]*100))\n",
    "ax.legend(bbox_to_anchor=(1,-.2),ncol=2)"
   ]
  },
  {
   "cell_type": "markdown",
   "metadata": {},
   "source": [
    "# Supplementary Figure 7"
   ]
  },
  {
   "cell_type": "markdown",
   "metadata": {},
   "source": [
    "## Panel a: Explained variance of lost i-modulons"
   ]
  },
  {
   "cell_type": "code",
   "execution_count": 77,
   "metadata": {},
   "outputs": [],
   "source": [
    "kept_mods = set(DF_links.name2.unique())"
   ]
  },
  {
   "cell_type": "code",
   "execution_count": 78,
   "metadata": {},
   "outputs": [],
   "source": [
    "all_mods = set([ds+'_'+str(name) for ds in datasets[:-1] for name in objs[ds].M.columns])"
   ]
  },
  {
   "cell_type": "code",
   "execution_count": 79,
   "metadata": {},
   "outputs": [],
   "source": [
    "missing_mods = all_mods - kept_mods"
   ]
  },
  {
   "cell_type": "code",
   "execution_count": 80,
   "metadata": {},
   "outputs": [],
   "source": [
    "from util import plot_rec_var"
   ]
  },
  {
   "cell_type": "code",
   "execution_count": 81,
   "metadata": {},
   "outputs": [
    {
     "data": {
      "application/vnd.jupyter.widget-view+json": {
       "model_id": "241b670baac646a29c1cff129853e583",
       "version_major": 2,
       "version_minor": 0
      },
      "text/plain": [
       "HBox(children=(HTML(value=''), FloatProgress(value=0.0, max=92.0), HTML(value='')))"
      ]
     },
     "metadata": {},
     "output_type": "display_data"
    },
    {
     "name": "stdout",
     "output_type": "stream",
     "text": [
      "MA-2_43\n",
      "\n"
     ]
    },
    {
     "data": {
      "application/vnd.jupyter.widget-view+json": {
       "model_id": "4858d44519c349ecb390640ae936824e",
       "version_major": 2,
       "version_minor": 0
      },
      "text/plain": [
       "HBox(children=(HTML(value=''), FloatProgress(value=0.0, max=244.0), HTML(value='')))"
      ]
     },
     "metadata": {},
     "output_type": "display_data"
    },
    {
     "name": "stdout",
     "output_type": "stream",
     "text": [
      "\n"
     ]
    }
   ],
   "source": [
    "missing_var = []\n",
    "for mod in tqdm(missing_mods):\n",
    "    ds,comp = mod.split('_')\n",
    "    missing_var.append(plot_rec_var(objs[ds],modulons=[int(comp)],plot=False).values[0])\n",
    "    if plot_rec_var(objs[ds],modulons=[int(comp)],plot=False).values[0] > 10:\n",
    "        print(mod)\n",
    "    \n",
    "kept_var = []\n",
    "for mod in tqdm(kept_mods):\n",
    "    ds,comp = mod.split('_')\n",
    "    kept_var.append(plot_rec_var(objs[ds],modulons=[int(comp)],plot=False).values[0])"
   ]
  },
  {
   "cell_type": "code",
   "execution_count": 82,
   "metadata": {},
   "outputs": [
    {
     "data": {
      "text/plain": [
       "Text(0, 0.5, 'Count')"
      ]
     },
     "execution_count": 82,
     "metadata": {},
     "output_type": "execute_result"
    },
    {
     "data": {
      "image/png": "[encoded data removed]",
      "text/plain": [
       "<Figure size 450x375 with 1 Axes>"
      ]
     },
     "metadata": {},
     "output_type": "display_data"
    }
   ],
   "source": [
    "plt.hist(missing_var,range=(0,20),bins=20)\n",
    "plt.hist(kept_var,range=(0,20),bins=20,alpha=0.5)\n",
    "plt.xticks(range(0,21,2))\n",
    "plt.xlabel('Percent Variance Explained')\n",
    "plt.ylabel('Count')"
   ]
  },
  {
   "cell_type": "code",
   "execution_count": 83,
   "metadata": {},
   "outputs": [
    {
     "data": {
      "text/plain": [
       "MannwhitneyuResult(statistic=5770.0, pvalue=3.2439299584357683e-12)"
      ]
     },
     "execution_count": 83,
     "metadata": {},
     "output_type": "execute_result"
    }
   ],
   "source": [
    "stats.mannwhitneyu(missing_var,kept_var)"
   ]
  },
  {
   "cell_type": "code",
   "execution_count": 84,
   "metadata": {},
   "outputs": [
    {
     "data": {
      "text/plain": [
       "Text(0, 0.5, 'Count')"
      ]
     },
     "execution_count": 84,
     "metadata": {},
     "output_type": "execute_result"
    },
    {
     "data": {
      "image/png": "[encoded data removed]",
      "text/plain": [
       "<Figure size 225x225 with 1 Axes>"
      ]
     },
     "metadata": {},
     "output_type": "display_data"
    }
   ],
   "source": [
    "fig,ax = plt.subplots(figsize=(1.5,1.5))\n",
    "plt.hist(missing_var,range=(0,1),bins=10)\n",
    "plt.hist(kept_var,range=(0,1),bins=10,alpha=0.5)\n",
    "plt.xlabel('Percent Variance Explained')\n",
    "plt.ylabel('Count')"
   ]
  },
  {
   "cell_type": "markdown",
   "metadata": {},
   "source": [
    "## Panel b: Classes of new i-modulons"
   ]
  },
  {
   "cell_type": "code",
   "execution_count": 85,
   "metadata": {},
   "outputs": [
    {
     "data": {
      "text/plain": [
       "{'regulatory': -2, 'functional': -3, 'genomic': -4, 'uncharacterized': -5}"
      ]
     },
     "execution_count": 85,
     "metadata": {},
     "output_type": "execute_result"
    }
   ],
   "source": [
    "type_dict"
   ]
  },
  {
   "cell_type": "code",
   "execution_count": 86,
   "metadata": {},
   "outputs": [
    {
     "data": {
      "text/plain": [
       "-2    21\n",
       "-5    16\n",
       "-3     6\n",
       "-4     1\n",
       "Name: type, dtype: int64"
      ]
     },
     "execution_count": 86,
     "metadata": {},
     "output_type": "execute_result"
    }
   ],
   "source": [
    "new_counts = DF_binarized[(DF_binarized.total==0)].type.value_counts()\n",
    "new_counts"
   ]
  },
  {
   "cell_type": "code",
   "execution_count": 87,
   "metadata": {},
   "outputs": [],
   "source": [
    "new_reg = DF_binarized[(DF_binarized.total==0) & (DF_binarized.type==-2)].index\n",
    "new_bio = DF_binarized[(DF_binarized.total==0) & (DF_binarized.type==-3)].index\n",
    "new_gen = DF_binarized[(DF_binarized.total==0) & (DF_binarized.type==-4)].index\n",
    "new_unc = DF_binarized[(DF_binarized.total==0) & (DF_binarized.type==-5)].index"
   ]
  },
  {
   "cell_type": "code",
   "execution_count": 88,
   "metadata": {
    "scrolled": false
   },
   "outputs": [],
   "source": [
    "new_single = []\n",
    "for k in new_unc:\n",
    "    if objs['combined'].show_enriched(k)['weight'].max() > 0.4:\n",
    "        new_single.append(k)"
   ]
  },
  {
   "cell_type": "code",
   "execution_count": 89,
   "metadata": {},
   "outputs": [
    {
     "data": {
      "text/plain": [
       "[21, 6, 1, 4, 12]"
      ]
     },
     "execution_count": 89,
     "metadata": {},
     "output_type": "execute_result"
    }
   ],
   "source": [
    "[len(new_reg),len(new_bio),len(new_gen),len(new_unc)-len(new_single),len(new_single)]"
   ]
  },
  {
   "cell_type": "code",
   "execution_count": 90,
   "metadata": {},
   "outputs": [
    {
     "data": {
      "text/plain": [
       "([<matplotlib.patches.Wedge at 0x7f1ebb7b87c0>,\n",
       "  <matplotlib.patches.Wedge at 0x7f1ebb7b8ca0>,\n",
       "  <matplotlib.patches.Wedge at 0x7f1ebb7a8160>,\n",
       "  <matplotlib.patches.Wedge at 0x7f1ebb7a85e0>,\n",
       "  <matplotlib.patches.Wedge at 0x7f1ebb7a8a60>],\n",
       " [Text(0.07847312953561776, 1.0971973240675017, 'Regulatory'),\n",
       "  Text(-1.055442282845914, -0.3099057721001753, 'Functional'),\n",
       "  Text(-0.777817477511334, -0.7778174410990703, 'Genomic'),\n",
       "  Text(-0.456956527076959, -1.0005951890558762, 'Uncharacterized'),\n",
       "  Text(0.7203468250294088, -0.8313245164615624, 'Single Gene')])"
      ]
     },
     "execution_count": 90,
     "metadata": {},
     "output_type": "execute_result"
    },
    {
     "data": {
      "image/png": "[encoded data removed]",
      "text/plain": [
       "<Figure size 450x375 with 1 Axes>"
      ]
     },
     "metadata": {},
     "output_type": "display_data"
    }
   ],
   "source": [
    "plt.pie([len(new_reg),len(new_bio),len(new_gen),len(new_unc)-len(new_single),len(new_single)],\n",
    "        labels=['Regulatory','Functional','Genomic','Uncharacterized','Single Gene'])"
   ]
  },
  {
   "cell_type": "markdown",
   "metadata": {},
   "source": [
    "## Panel c: Histogram of IC gene coefficients"
   ]
  },
  {
   "cell_type": "code",
   "execution_count": 91,
   "metadata": {},
   "outputs": [
    {
     "data": {
      "text/plain": [
       "<matplotlib.collections.LineCollection at 0x7f1ebb71b9a0>"
      ]
     },
     "execution_count": 91,
     "metadata": {},
     "output_type": "execute_result"
    },
    {
     "data": {
      "image/png": "[encoded data removed]",
      "text/plain": [
       "<Figure size 300x300 with 1 Axes>"
      ]
     },
     "metadata": {},
     "output_type": "display_data"
    }
   ],
   "source": [
    "fig,ax = plt.subplots(figsize=(2,2))\n",
    "plt.hist(objs['combined'].M[31])\n",
    "plt.yscale('log')\n",
    "plt.xlabel('IC Gene Coefficient')\n",
    "plt.ylabel('Count (Log-scale)')\n",
    "plt.vlines([objs['combined'].thresholds[31],-objs['combined'].thresholds[31]],0,3000,\n",
    "           linestyles='dashed',linewidth=0.5)"
   ]
  },
  {
   "cell_type": "markdown",
   "metadata": {},
   "source": [
    "## Panel e: F1-score chart"
   ]
  },
  {
   "cell_type": "code",
   "execution_count": 92,
   "metadata": {},
   "outputs": [
    {
     "data": {
      "text/html": [
       "<div>\n",
       "<style scoped>\n",
       "    .dataframe tbody tr th:only-of-type {\n",
       "        vertical-align: middle;\n",
       "    }\n",
       "\n",
       "    .dataframe tbody tr th {\n",
       "        vertical-align: top;\n",
       "    }\n",
       "\n",
       "    .dataframe thead th {\n",
       "        text-align: right;\n",
       "    }\n",
       "</style>\n",
       "<table border=\"1\" class=\"dataframe\">\n",
       "  <thead>\n",
       "    <tr style=\"text-align: right;\">\n",
       "      <th></th>\n",
       "      <th>ds1</th>\n",
       "      <th>ds2</th>\n",
       "      <th>comp1</th>\n",
       "      <th>comp2</th>\n",
       "      <th>name1</th>\n",
       "      <th>name2</th>\n",
       "      <th>type1</th>\n",
       "      <th>type2</th>\n",
       "      <th>desc1</th>\n",
       "      <th>desc2</th>\n",
       "      <th>dist</th>\n",
       "    </tr>\n",
       "  </thead>\n",
       "  <tbody>\n",
       "    <tr>\n",
       "      <th>138</th>\n",
       "      <td>combined</td>\n",
       "      <td>RNAseq-1</td>\n",
       "      <td>0</td>\n",
       "      <td>24</td>\n",
       "      <td>combined_0</td>\n",
       "      <td>RNAseq-1_24</td>\n",
       "      <td>regulatory</td>\n",
       "      <td>regulatory</td>\n",
       "      <td>lrp</td>\n",
       "      <td>lrp</td>\n",
       "      <td>0.733699</td>\n",
       "    </tr>\n",
       "    <tr>\n",
       "      <th>0</th>\n",
       "      <td>combined</td>\n",
       "      <td>MA-1</td>\n",
       "      <td>1</td>\n",
       "      <td>36</td>\n",
       "      <td>combined_1</td>\n",
       "      <td>MA-1_36</td>\n",
       "      <td>regulatory</td>\n",
       "      <td>regulatory</td>\n",
       "      <td>tdcR</td>\n",
       "      <td>tdcR</td>\n",
       "      <td>0.560505</td>\n",
       "    </tr>\n",
       "    <tr>\n",
       "      <th>2</th>\n",
       "      <td>combined</td>\n",
       "      <td>MA-1</td>\n",
       "      <td>3</td>\n",
       "      <td>58</td>\n",
       "      <td>combined_3</td>\n",
       "      <td>MA-1_58</td>\n",
       "      <td>regulatory</td>\n",
       "      <td>regulatory</td>\n",
       "      <td>purR</td>\n",
       "      <td>purR</td>\n",
       "      <td>0.463571</td>\n",
       "    </tr>\n",
       "    <tr>\n",
       "      <th>112</th>\n",
       "      <td>combined</td>\n",
       "      <td>MA-3</td>\n",
       "      <td>3</td>\n",
       "      <td>31</td>\n",
       "      <td>combined_3</td>\n",
       "      <td>MA-3_31</td>\n",
       "      <td>regulatory</td>\n",
       "      <td>regulatory</td>\n",
       "      <td>purR</td>\n",
       "      <td>purR</td>\n",
       "      <td>0.608821</td>\n",
       "    </tr>\n",
       "    <tr>\n",
       "      <th>140</th>\n",
       "      <td>combined</td>\n",
       "      <td>RNAseq-1</td>\n",
       "      <td>3</td>\n",
       "      <td>59</td>\n",
       "      <td>combined_3</td>\n",
       "      <td>RNAseq-1_59</td>\n",
       "      <td>regulatory</td>\n",
       "      <td>regulatory</td>\n",
       "      <td>purR</td>\n",
       "      <td>purR</td>\n",
       "      <td>0.877769</td>\n",
       "    </tr>\n",
       "  </tbody>\n",
       "</table>\n",
       "</div>"
      ],
      "text/plain": [
       "          ds1       ds2  comp1  comp2       name1        name2       type1  \\\n",
       "138  combined  RNAseq-1      0     24  combined_0  RNAseq-1_24  regulatory   \n",
       "0    combined      MA-1      1     36  combined_1      MA-1_36  regulatory   \n",
       "2    combined      MA-1      3     58  combined_3      MA-1_58  regulatory   \n",
       "112  combined      MA-3      3     31  combined_3      MA-3_31  regulatory   \n",
       "140  combined  RNAseq-1      3     59  combined_3  RNAseq-1_59  regulatory   \n",
       "\n",
       "          type2 desc1 desc2      dist  \n",
       "138  regulatory   lrp   lrp  0.733699  \n",
       "0    regulatory  tdcR  tdcR  0.560505  \n",
       "2    regulatory  purR  purR  0.463571  \n",
       "112  regulatory  purR  purR  0.608821  \n",
       "140  regulatory  purR  purR  0.877769  "
      ]
     },
     "execution_count": 92,
     "metadata": {},
     "output_type": "execute_result"
    }
   ],
   "source": [
    "reg_links = DF_links[(DF_links.type1 == 'regulatory') & (DF_links.desc1 == DF_links.desc2)]\n",
    "reg_links.head()"
   ]
  },
  {
   "cell_type": "code",
   "execution_count": 93,
   "metadata": {},
   "outputs": [
    {
     "data": {
      "text/plain": [
       "<AxesSubplot:xlabel='variable', ylabel='value'>"
      ]
     },
     "execution_count": 93,
     "metadata": {},
     "output_type": "execute_result"
    },
    {
     "data": {
      "image/png": "[encoded data removed]",
      "text/plain": [
       "<Figure size 225x300 with 1 Axes>"
      ]
     },
     "metadata": {},
     "output_type": "display_data"
    }
   ],
   "source": [
    "fig,ax=plt.subplots(figsize=(1.5,2))\n",
    "struct = []\n",
    "for name,group in reg_links.groupby('ds2'):\n",
    "    struct.append(pd.DataFrame(list(zip([name]*len(group),\n",
    "                          DF_categories.loc[group.name1,'f1score'].values,\n",
    "                          DF_categories.loc[group.name2,'f1score'].values)),\n",
    "                      columns=['title','full','partial']))\n",
    "DF_stats = pd.concat(struct)\n",
    "DF_stats = DF_stats.melt(id_vars='title')\n",
    "sns.boxplot(data=DF_stats,x='variable',y='value',order=['partial','full'])\n",
    "sns.stripplot(data=DF_stats,x='variable',y='value',color='k',s=2,jitter=0.3,order=['partial','full'])"
   ]
  },
  {
   "cell_type": "code",
   "execution_count": 94,
   "metadata": {},
   "outputs": [
    {
     "data": {
      "text/plain": [
       "0.529029852282844"
      ]
     },
     "execution_count": 94,
     "metadata": {},
     "output_type": "execute_result"
    }
   ],
   "source": [
    "DF_stats[DF_stats.variable=='partial'].value.mean()"
   ]
  },
  {
   "cell_type": "code",
   "execution_count": 95,
   "metadata": {},
   "outputs": [
    {
     "data": {
      "text/plain": [
       "0.5812389872946475"
      ]
     },
     "execution_count": 95,
     "metadata": {},
     "output_type": "execute_result"
    }
   ],
   "source": [
    "DF_stats[DF_stats.variable=='full'].value.mean()"
   ]
  },
  {
   "cell_type": "code",
   "execution_count": 96,
   "metadata": {
    "scrolled": true
   },
   "outputs": [
    {
     "data": {
      "text/plain": [
       "WilcoxonResult(statistic=1952.5, pvalue=0.00011421109990313254)"
      ]
     },
     "execution_count": 96,
     "metadata": {},
     "output_type": "execute_result"
    }
   ],
   "source": [
    "stats.wilcoxon(DF_stats[DF_stats.variable=='partial'].value,DF_stats[DF_stats.variable=='full'].value)"
   ]
  },
  {
   "cell_type": "markdown",
   "metadata": {},
   "source": [
    "## Panel f: Pearson R between activities"
   ]
  },
  {
   "cell_type": "code",
   "execution_count": 97,
   "metadata": {},
   "outputs": [],
   "source": [
    "from sklearn.metrics import r2_score"
   ]
  },
  {
   "cell_type": "code",
   "execution_count": 98,
   "metadata": {},
   "outputs": [],
   "source": [
    "linked_pearson = []\n",
    "for i,row in DF_links.iterrows():\n",
    "    partial_acts = objs[row.ds2].A.loc[row.comp2]\n",
    "    full_acts = objs[row.ds1].A.loc[row.comp1,partial_acts.index]\n",
    "    r,_ = stats.spearmanr(full_acts,partial_acts)\n",
    "    linked_pearson.append(abs(r))"
   ]
  },
  {
   "cell_type": "code",
   "execution_count": 99,
   "metadata": {},
   "outputs": [
    {
     "data": {
      "text/plain": [
       "0.8934426229508197"
      ]
     },
     "execution_count": 99,
     "metadata": {},
     "output_type": "execute_result"
    }
   ],
   "source": [
    "sum(np.array(linked_pearson) > 0.6) / len(linked_pearson)"
   ]
  },
  {
   "cell_type": "code",
   "execution_count": 100,
   "metadata": {},
   "outputs": [
    {
     "data": {
      "text/plain": [
       "Text(0, 0.5, 'Count')"
      ]
     },
     "execution_count": 100,
     "metadata": {},
     "output_type": "execute_result"
    },
    {
     "data": {
      "image/png": "[encoded data removed]",
      "text/plain": [
       "<Figure size 300x300 with 1 Axes>"
      ]
     },
     "metadata": {},
     "output_type": "display_data"
    }
   ],
   "source": [
    "fig,ax = plt.subplots(figsize=(2,2))\n",
    "ax.hist(linked_pearson,bins=20)\n",
    "ax.set_xlabel('Absolute Spearman R between activities of linked i-modulons')\n",
    "ax.set_ylabel('Count')"
   ]
  },
  {
   "cell_type": "markdown",
   "metadata": {},
   "source": [
    "# New biological component"
   ]
  },
  {
   "cell_type": "code",
   "execution_count": 104,
   "metadata": {},
   "outputs": [
    {
     "name": "stdout",
     "output_type": "stream",
     "text": [
      "G6999-MONOMER\n",
      "RNase P protein component\n",
      "ATP-dependent DNA helicase Rep\n",
      "inner membrane protein YhbE\n",
      "ATP-dependent RNA helicase DbpA\n",
      "long-chain fatty acid outer membrane channel / bacteriophage T2 receptor\n",
      "YICE-MONOMER\n",
      "SDAC-MONOMER\n",
      "N<sup>6</sup>-L-threonylcarbamoyladenine synthase, TsaB subunit\n",
      "H2PTERIDINEPYROPHOSPHOKIN-MONOMER\n",
      "GTPase ObgE\n",
      "poly(A) polymerase I\n",
      "Kdo<sub>2</sub>-lipid A phosphotransferase\n",
      "LYSP-MONOMER\n",
      "lipid II flippase MurJ\n",
      "DUF2594 domain-containing protein YecF\n",
      "orotidine-5'-phosphate decarboxylase\n",
      "ATP-dependent RNA helicase SrmB\n",
      "RNA polymerase-binding ATPase and RNAP recycling factor\n",
      "truncated RNase PH\n",
      "inosine/guanosine kinase\n",
      "EG10812-MONOMER\n",
      "ATP-dependent RNA helicase RhlE\n",
      "EF-P-lysine lysyltransferase\n",
      "inositol-phosphate phosphatase\n",
      "DNA-binding transcriptional dual regulator Fis\n"
     ]
    }
   ],
   "source": [
    "rRNA = 0\n",
    "tRNA = 0\n",
    "ygene = 0\n",
    "polyamine = 0\n",
    "for gene in objs['combined'].show_enriched(147)['product']:\n",
    "    if 'rRNA' in gene or 'ribosom' in gene:\n",
    "        rRNA += 1\n",
    "    elif 'tRNA' in gene:\n",
    "        tRNA += 1\n",
    "    elif 'putative' in gene or 'family' in gene:\n",
    "        ygene += 1\n",
    "    elif 'spermidine' in gene or 'YEEF' in gene:\n",
    "        polyamine +=1\n",
    "    else:\n",
    "        print(gene)"
   ]
  },
  {
   "cell_type": "code",
   "execution_count": 103,
   "metadata": {},
   "outputs": [
    {
     "data": {
      "text/html": [
       "<div>\n",
       "<style scoped>\n",
       "    .dataframe tbody tr th:only-of-type {\n",
       "        vertical-align: middle;\n",
       "    }\n",
       "\n",
       "    .dataframe tbody tr th {\n",
       "        vertical-align: top;\n",
       "    }\n",
       "\n",
       "    .dataframe thead th {\n",
       "        text-align: right;\n",
       "    }\n",
       "</style>\n",
       "<table border=\"1\" class=\"dataframe\">\n",
       "  <thead>\n",
       "    <tr style=\"text-align: right;\">\n",
       "      <th></th>\n",
       "      <th>weight</th>\n",
       "      <th>gene_name</th>\n",
       "      <th>product</th>\n",
       "      <th>start</th>\n",
       "      <th>stop</th>\n",
       "      <th>strand</th>\n",
       "      <th>operon</th>\n",
       "      <th>length</th>\n",
       "      <th>cog</th>\n",
       "    </tr>\n",
       "  </thead>\n",
       "  <tbody>\n",
       "    <tr>\n",
       "      <th>b1055</th>\n",
       "      <td>0.052977</td>\n",
       "      <td>trhO</td>\n",
       "      <td>tRNA U34 hydroxylase TrhO</td>\n",
       "      <td>1116807</td>\n",
       "      <td>1117859</td>\n",
       "      <td>+</td>\n",
       "      <td>trhO</td>\n",
       "      <td>1053</td>\n",
       "      <td>Function unknown</td>\n",
       "    </tr>\n",
       "    <tr>\n",
       "      <th>b1821</th>\n",
       "      <td>0.053614</td>\n",
       "      <td>mntP</td>\n",
       "      <td>G6999-MONOMER</td>\n",
       "      <td>1905688</td>\n",
       "      <td>1906254</td>\n",
       "      <td>+</td>\n",
       "      <td>mntP</td>\n",
       "      <td>567</td>\n",
       "      <td>Function unknown</td>\n",
       "    </tr>\n",
       "    <tr>\n",
       "      <th>b0661</th>\n",
       "      <td>0.054178</td>\n",
       "      <td>miaB</td>\n",
       "      <td>isopentenyl-adenosine A37 tRNA methylthiolase</td>\n",
       "      <td>693531</td>\n",
       "      <td>694955</td>\n",
       "      <td>-</td>\n",
       "      <td>miaB</td>\n",
       "      <td>1425</td>\n",
       "      <td>Translation, ribosomal structure and biogenesis</td>\n",
       "    </tr>\n",
       "    <tr>\n",
       "      <th>b3704</th>\n",
       "      <td>0.055265</td>\n",
       "      <td>rnpA</td>\n",
       "      <td>RNase P protein component</td>\n",
       "      <td>3884493</td>\n",
       "      <td>3884852</td>\n",
       "      <td>+</td>\n",
       "      <td>rnpA;rpmH</td>\n",
       "      <td>360</td>\n",
       "      <td>Translation, ribosomal structure and biogenesis</td>\n",
       "    </tr>\n",
       "    <tr>\n",
       "      <th>b3778</th>\n",
       "      <td>0.058383</td>\n",
       "      <td>rep</td>\n",
       "      <td>ATP-dependent DNA helicase Rep</td>\n",
       "      <td>3960677</td>\n",
       "      <td>3962698</td>\n",
       "      <td>+</td>\n",
       "      <td>rep</td>\n",
       "      <td>2022</td>\n",
       "      <td>Replication, recombination and repair</td>\n",
       "    </tr>\n",
       "    <tr>\n",
       "      <th>b3184</th>\n",
       "      <td>0.059469</td>\n",
       "      <td>yhbE</td>\n",
       "      <td>inner membrane protein YhbE</td>\n",
       "      <td>3331770</td>\n",
       "      <td>3332735</td>\n",
       "      <td>-</td>\n",
       "      <td>obgE;yhbE;rpmA;rplU</td>\n",
       "      <td>966</td>\n",
       "      <td>Amino acid transport and metabolism</td>\n",
       "    </tr>\n",
       "    <tr>\n",
       "      <th>b0905</th>\n",
       "      <td>0.060194</td>\n",
       "      <td>ycaO</td>\n",
       "      <td>ribosomal protein S12 methylthiotransferase ac...</td>\n",
       "      <td>954872</td>\n",
       "      <td>956632</td>\n",
       "      <td>-</td>\n",
       "      <td>ycaO</td>\n",
       "      <td>1761</td>\n",
       "      <td>Function unknown</td>\n",
       "    </tr>\n",
       "    <tr>\n",
       "      <th>b1343</th>\n",
       "      <td>0.060353</td>\n",
       "      <td>dbpA</td>\n",
       "      <td>ATP-dependent RNA helicase DbpA</td>\n",
       "      <td>1409511</td>\n",
       "      <td>1410884</td>\n",
       "      <td>+</td>\n",
       "      <td>dbpA</td>\n",
       "      <td>1374</td>\n",
       "      <td>Replication, recombination and repair</td>\n",
       "    </tr>\n",
       "    <tr>\n",
       "      <th>b2344</th>\n",
       "      <td>0.060368</td>\n",
       "      <td>fadL</td>\n",
       "      <td>long-chain fatty acid outer membrane channel /...</td>\n",
       "      <td>2461306</td>\n",
       "      <td>2462646</td>\n",
       "      <td>+</td>\n",
       "      <td>fadL</td>\n",
       "      <td>1341</td>\n",
       "      <td>Lipid transport and metabolism</td>\n",
       "    </tr>\n",
       "    <tr>\n",
       "      <th>b3871</th>\n",
       "      <td>0.060565</td>\n",
       "      <td>bipA</td>\n",
       "      <td>ribosome-dependent GTPase, ribosome assembly f...</td>\n",
       "      <td>4058407</td>\n",
       "      <td>4060230</td>\n",
       "      <td>+</td>\n",
       "      <td>bipA</td>\n",
       "      <td>1824</td>\n",
       "      <td>Signal transduction mechanisms</td>\n",
       "    </tr>\n",
       "    <tr>\n",
       "      <th>b3151</th>\n",
       "      <td>0.060690</td>\n",
       "      <td>yraQ</td>\n",
       "      <td>permease family protein YraQ</td>\n",
       "      <td>3297098</td>\n",
       "      <td>3298138</td>\n",
       "      <td>-</td>\n",
       "      <td>yraQ</td>\n",
       "      <td>1041</td>\n",
       "      <td>Function unknown</td>\n",
       "    </tr>\n",
       "    <tr>\n",
       "      <th>b2562</th>\n",
       "      <td>0.060693</td>\n",
       "      <td>yfhL</td>\n",
       "      <td>putative 4Fe-4S cluster-containing protein YfhL</td>\n",
       "      <td>2699663</td>\n",
       "      <td>2699923</td>\n",
       "      <td>+</td>\n",
       "      <td>yfhL</td>\n",
       "      <td>261</td>\n",
       "      <td>Energy production and conversion</td>\n",
       "    </tr>\n",
       "    <tr>\n",
       "      <th>b1133</th>\n",
       "      <td>0.061339</td>\n",
       "      <td>mnmA</td>\n",
       "      <td>tRNA-specific 2-thiouridylase</td>\n",
       "      <td>1192667</td>\n",
       "      <td>1193773</td>\n",
       "      <td>-</td>\n",
       "      <td>mnmA</td>\n",
       "      <td>1107</td>\n",
       "      <td>Translation, ribosomal structure and biogenesis</td>\n",
       "    </tr>\n",
       "    <tr>\n",
       "      <th>b3654</th>\n",
       "      <td>0.062230</td>\n",
       "      <td>xanP</td>\n",
       "      <td>YICE-MONOMER</td>\n",
       "      <td>3828945</td>\n",
       "      <td>3830336</td>\n",
       "      <td>+</td>\n",
       "      <td>xanP</td>\n",
       "      <td>1392</td>\n",
       "      <td>Nucleotide transport and metabolism</td>\n",
       "    </tr>\n",
       "    <tr>\n",
       "      <th>b2517</th>\n",
       "      <td>0.062340</td>\n",
       "      <td>rlmN</td>\n",
       "      <td>23S rRNA m&lt;sup&gt;2&lt;/sup&gt;A2503 methyltransferase/...</td>\n",
       "      <td>2643129</td>\n",
       "      <td>2644283</td>\n",
       "      <td>-</td>\n",
       "      <td>rlmN</td>\n",
       "      <td>1155</td>\n",
       "      <td>Translation, ribosomal structure and biogenesis</td>\n",
       "    </tr>\n",
       "    <tr>\n",
       "      <th>b2796</th>\n",
       "      <td>0.063363</td>\n",
       "      <td>sdaC</td>\n",
       "      <td>SDAC-MONOMER</td>\n",
       "      <td>2928229</td>\n",
       "      <td>2929518</td>\n",
       "      <td>+</td>\n",
       "      <td>sdaC;sdaB</td>\n",
       "      <td>1290</td>\n",
       "      <td>Amino acid transport and metabolism</td>\n",
       "    </tr>\n",
       "    <tr>\n",
       "      <th>b1807</th>\n",
       "      <td>0.063776</td>\n",
       "      <td>tsaB</td>\n",
       "      <td>N&lt;sup&gt;6&lt;/sup&gt;-L-threonylcarbamoyladenine synth...</td>\n",
       "      <td>1890572</td>\n",
       "      <td>1891267</td>\n",
       "      <td>-</td>\n",
       "      <td>tsaB;yeaY</td>\n",
       "      <td>696</td>\n",
       "      <td>Posttranslational modification, protein turnov...</td>\n",
       "    </tr>\n",
       "    <tr>\n",
       "      <th>b0142</th>\n",
       "      <td>0.063875</td>\n",
       "      <td>folK</td>\n",
       "      <td>H2PTERIDINEPYROPHOSPHOKIN-MONOMER</td>\n",
       "      <td>157253</td>\n",
       "      <td>157732</td>\n",
       "      <td>-</td>\n",
       "      <td>folK;pcnB</td>\n",
       "      <td>480</td>\n",
       "      <td>Coenzyme transport and metabolism</td>\n",
       "    </tr>\n",
       "    <tr>\n",
       "      <th>b0807</th>\n",
       "      <td>0.064845</td>\n",
       "      <td>rlmF</td>\n",
       "      <td>23S rRNA m&lt;sup&gt;6&lt;/sup&gt;A1618 methyltransferase</td>\n",
       "      <td>842332</td>\n",
       "      <td>843258</td>\n",
       "      <td>+</td>\n",
       "      <td>rlmF</td>\n",
       "      <td>927</td>\n",
       "      <td>Function unknown</td>\n",
       "    </tr>\n",
       "    <tr>\n",
       "      <th>b3183</th>\n",
       "      <td>0.065051</td>\n",
       "      <td>obgE</td>\n",
       "      <td>GTPase ObgE</td>\n",
       "      <td>3330582</td>\n",
       "      <td>3331754</td>\n",
       "      <td>-</td>\n",
       "      <td>obgE;yhbE;rpmA;rplU</td>\n",
       "      <td>1173</td>\n",
       "      <td>Function unknown</td>\n",
       "    </tr>\n",
       "    <tr>\n",
       "      <th>b1722</th>\n",
       "      <td>0.065299</td>\n",
       "      <td>ydiY</td>\n",
       "      <td>acid-inducible putative outer membrane protein...</td>\n",
       "      <td>1805325</td>\n",
       "      <td>1806083</td>\n",
       "      <td>-</td>\n",
       "      <td>ydiY</td>\n",
       "      <td>759</td>\n",
       "      <td>Cell wall/membrane/envelope biogenesis</td>\n",
       "    </tr>\n",
       "    <tr>\n",
       "      <th>b0143</th>\n",
       "      <td>0.066982</td>\n",
       "      <td>pcnB</td>\n",
       "      <td>poly(A) polymerase I</td>\n",
       "      <td>157729</td>\n",
       "      <td>159126</td>\n",
       "      <td>-</td>\n",
       "      <td>folK;pcnB</td>\n",
       "      <td>1398</td>\n",
       "      <td>Translation, ribosomal structure and biogenesis</td>\n",
       "    </tr>\n",
       "    <tr>\n",
       "      <th>b2174</th>\n",
       "      <td>0.067454</td>\n",
       "      <td>lpxT</td>\n",
       "      <td>Kdo&lt;sub&gt;2&lt;/sub&gt;-lipid A phosphotransferase</td>\n",
       "      <td>2268854</td>\n",
       "      <td>2269567</td>\n",
       "      <td>+</td>\n",
       "      <td>lpxT;yeiR</td>\n",
       "      <td>714</td>\n",
       "      <td>Lipid transport and metabolism</td>\n",
       "    </tr>\n",
       "    <tr>\n",
       "      <th>b0423</th>\n",
       "      <td>0.067520</td>\n",
       "      <td>thiI</td>\n",
       "      <td>tRNA uridine 4-sulfurtransferase</td>\n",
       "      <td>441549</td>\n",
       "      <td>442997</td>\n",
       "      <td>+</td>\n",
       "      <td>thiI</td>\n",
       "      <td>1449</td>\n",
       "      <td>Coenzyme transport and metabolism</td>\n",
       "    </tr>\n",
       "    <tr>\n",
       "      <th>b1660</th>\n",
       "      <td>0.068965</td>\n",
       "      <td>ydhC</td>\n",
       "      <td>putative transporter YdhC</td>\n",
       "      <td>1739911</td>\n",
       "      <td>1741122</td>\n",
       "      <td>+</td>\n",
       "      <td>ydhC</td>\n",
       "      <td>1212</td>\n",
       "      <td>Inorganic ion transport and metabolism</td>\n",
       "    </tr>\n",
       "    <tr>\n",
       "      <th>b2156</th>\n",
       "      <td>0.069057</td>\n",
       "      <td>lysP</td>\n",
       "      <td>LYSP-MONOMER</td>\n",
       "      <td>2247063</td>\n",
       "      <td>2248532</td>\n",
       "      <td>-</td>\n",
       "      <td>lysP</td>\n",
       "      <td>1470</td>\n",
       "      <td>Amino acid transport and metabolism</td>\n",
       "    </tr>\n",
       "    <tr>\n",
       "      <th>b1069</th>\n",
       "      <td>0.069567</td>\n",
       "      <td>murJ</td>\n",
       "      <td>lipid II flippase MurJ</td>\n",
       "      <td>1127839</td>\n",
       "      <td>1129374</td>\n",
       "      <td>+</td>\n",
       "      <td>murJ</td>\n",
       "      <td>1536</td>\n",
       "      <td>Function unknown</td>\n",
       "    </tr>\n",
       "    <tr>\n",
       "      <th>b1835</th>\n",
       "      <td>0.072451</td>\n",
       "      <td>rsmF</td>\n",
       "      <td>16S rRNA m&lt;sup&gt;5&lt;/sup&gt;C1407 methyltransferase</td>\n",
       "      <td>1920223</td>\n",
       "      <td>1921662</td>\n",
       "      <td>+</td>\n",
       "      <td>rsmF</td>\n",
       "      <td>1440</td>\n",
       "      <td>Translation, ribosomal structure and biogenesis</td>\n",
       "    </tr>\n",
       "    <tr>\n",
       "      <th>b1915</th>\n",
       "      <td>0.072791</td>\n",
       "      <td>yecF</td>\n",
       "      <td>DUF2594 domain-containing protein YecF</td>\n",
       "      <td>1995818</td>\n",
       "      <td>1996042</td>\n",
       "      <td>+</td>\n",
       "      <td>yecF</td>\n",
       "      <td>225</td>\n",
       "      <td>Function unknown</td>\n",
       "    </tr>\n",
       "    <tr>\n",
       "      <th>b3741</th>\n",
       "      <td>0.073833</td>\n",
       "      <td>mnmG</td>\n",
       "      <td>5-carboxymethylaminomethyluridine-tRNA synthas...</td>\n",
       "      <td>3923744</td>\n",
       "      <td>3925633</td>\n",
       "      <td>-</td>\n",
       "      <td>mnmG;mioC;asnC;rsmG</td>\n",
       "      <td>1890</td>\n",
       "      <td>Cell cycle control, cell division, chromosome ...</td>\n",
       "    </tr>\n",
       "    <tr>\n",
       "      <th>b1281</th>\n",
       "      <td>0.074360</td>\n",
       "      <td>pyrF</td>\n",
       "      <td>orotidine-5'-phosphate decarboxylase</td>\n",
       "      <td>1341921</td>\n",
       "      <td>1342658</td>\n",
       "      <td>+</td>\n",
       "      <td>yciH;pyrF;lapB;lapA</td>\n",
       "      <td>738</td>\n",
       "      <td>Nucleotide transport and metabolism</td>\n",
       "    </tr>\n",
       "    <tr>\n",
       "      <th>b2576</th>\n",
       "      <td>0.075245</td>\n",
       "      <td>srmB</td>\n",
       "      <td>ATP-dependent RNA helicase SrmB</td>\n",
       "      <td>2712896</td>\n",
       "      <td>2714230</td>\n",
       "      <td>+</td>\n",
       "      <td>srmB</td>\n",
       "      <td>1335</td>\n",
       "      <td>Replication, recombination and repair</td>\n",
       "    </tr>\n",
       "    <tr>\n",
       "      <th>b2140</th>\n",
       "      <td>0.075590</td>\n",
       "      <td>dusC</td>\n",
       "      <td>tRNA-dihydrouridine&lt;sup&gt;16&lt;/sup&gt; synthase</td>\n",
       "      <td>2229438</td>\n",
       "      <td>2230385</td>\n",
       "      <td>-</td>\n",
       "      <td>dusC</td>\n",
       "      <td>948</td>\n",
       "      <td>Translation, ribosomal structure and biogenesis</td>\n",
       "    </tr>\n",
       "    <tr>\n",
       "      <th>b1435</th>\n",
       "      <td>0.075598</td>\n",
       "      <td>rlhA</td>\n",
       "      <td>23S rRNA 5-hydroxycytidine C2501 synthase</td>\n",
       "      <td>1506781</td>\n",
       "      <td>1508742</td>\n",
       "      <td>+</td>\n",
       "      <td>rlhA</td>\n",
       "      <td>1962</td>\n",
       "      <td>Posttranslational modification, protein turnov...</td>\n",
       "    </tr>\n",
       "    <tr>\n",
       "      <th>b0059</th>\n",
       "      <td>0.075698</td>\n",
       "      <td>rapA</td>\n",
       "      <td>RNA polymerase-binding ATPase and RNAP recycli...</td>\n",
       "      <td>60358</td>\n",
       "      <td>63264</td>\n",
       "      <td>-</td>\n",
       "      <td>rapA;rluA</td>\n",
       "      <td>2907</td>\n",
       "      <td>Replication, recombination and repair</td>\n",
       "    </tr>\n",
       "    <tr>\n",
       "      <th>b3643_1</th>\n",
       "      <td>0.076135</td>\n",
       "      <td>rph</td>\n",
       "      <td>truncated RNase PH</td>\n",
       "      <td>3815863</td>\n",
       "      <td>3816549</td>\n",
       "      <td>-</td>\n",
       "      <td>rph;pyrE</td>\n",
       "      <td>687</td>\n",
       "      <td>Translation, ribosomal structure and biogenesis</td>\n",
       "    </tr>\n",
       "    <tr>\n",
       "      <th>b1269</th>\n",
       "      <td>0.076594</td>\n",
       "      <td>rluB</td>\n",
       "      <td>23S rRNA pseudouridine&lt;sup&gt;2605&lt;/sup&gt; synthase</td>\n",
       "      <td>1326852</td>\n",
       "      <td>1327727</td>\n",
       "      <td>+</td>\n",
       "      <td>rluB</td>\n",
       "      <td>876</td>\n",
       "      <td>Translation, ribosomal structure and biogenesis</td>\n",
       "    </tr>\n",
       "    <tr>\n",
       "      <th>b0859</th>\n",
       "      <td>0.078580</td>\n",
       "      <td>rlmC</td>\n",
       "      <td>23S rRNA m&lt;sup&gt;5&lt;/sup&gt;U747 methyltransferase</td>\n",
       "      <td>898518</td>\n",
       "      <td>899645</td>\n",
       "      <td>+</td>\n",
       "      <td>rlmC;ybjO</td>\n",
       "      <td>1128</td>\n",
       "      <td>Translation, ribosomal structure and biogenesis</td>\n",
       "    </tr>\n",
       "    <tr>\n",
       "      <th>b3471</th>\n",
       "      <td>0.079389</td>\n",
       "      <td>yhhQ</td>\n",
       "      <td>putative queuosine precursor transporter</td>\n",
       "      <td>3609217</td>\n",
       "      <td>3609882</td>\n",
       "      <td>+</td>\n",
       "      <td>yhhQ</td>\n",
       "      <td>666</td>\n",
       "      <td>Function unknown</td>\n",
       "    </tr>\n",
       "    <tr>\n",
       "      <th>b0477</th>\n",
       "      <td>0.079532</td>\n",
       "      <td>gsk</td>\n",
       "      <td>inosine/guanosine kinase</td>\n",
       "      <td>500125</td>\n",
       "      <td>501429</td>\n",
       "      <td>+</td>\n",
       "      <td>gsk</td>\n",
       "      <td>1305</td>\n",
       "      <td>Carbohydrate transport and metabolism</td>\n",
       "    </tr>\n",
       "    <tr>\n",
       "      <th>b1125</th>\n",
       "      <td>0.080847</td>\n",
       "      <td>potB</td>\n",
       "      <td>spermidine preferential ABC transporter membra...</td>\n",
       "      <td>1183617</td>\n",
       "      <td>1184444</td>\n",
       "      <td>-</td>\n",
       "      <td>potD;potC;potB;potA</td>\n",
       "      <td>828</td>\n",
       "      <td>Inorganic ion transport and metabolism</td>\n",
       "    </tr>\n",
       "    <tr>\n",
       "      <th>b0405</th>\n",
       "      <td>0.083417</td>\n",
       "      <td>queA</td>\n",
       "      <td>EG10812-MONOMER</td>\n",
       "      <td>425011</td>\n",
       "      <td>426081</td>\n",
       "      <td>+</td>\n",
       "      <td>queA</td>\n",
       "      <td>1071</td>\n",
       "      <td>Translation, ribosomal structure and biogenesis</td>\n",
       "    </tr>\n",
       "    <tr>\n",
       "      <th>b0797</th>\n",
       "      <td>0.084625</td>\n",
       "      <td>rhlE</td>\n",
       "      <td>ATP-dependent RNA helicase RhlE</td>\n",
       "      <td>830872</td>\n",
       "      <td>832236</td>\n",
       "      <td>+</td>\n",
       "      <td>rhlE</td>\n",
       "      <td>1365</td>\n",
       "      <td>Replication, recombination and repair</td>\n",
       "    </tr>\n",
       "    <tr>\n",
       "      <th>b4155</th>\n",
       "      <td>0.087543</td>\n",
       "      <td>epmA</td>\n",
       "      <td>EF-P-lysine lysyltransferase</td>\n",
       "      <td>4382643</td>\n",
       "      <td>4383620</td>\n",
       "      <td>+</td>\n",
       "      <td>epmA</td>\n",
       "      <td>978</td>\n",
       "      <td>Translation, ribosomal structure and biogenesis</td>\n",
       "    </tr>\n",
       "    <tr>\n",
       "      <th>b2533</th>\n",
       "      <td>0.089413</td>\n",
       "      <td>suhB</td>\n",
       "      <td>inositol-phosphate phosphatase</td>\n",
       "      <td>2663442</td>\n",
       "      <td>2664245</td>\n",
       "      <td>+</td>\n",
       "      <td>suhB</td>\n",
       "      <td>804</td>\n",
       "      <td>No COG Annotation</td>\n",
       "    </tr>\n",
       "    <tr>\n",
       "      <th>b3261</th>\n",
       "      <td>0.090819</td>\n",
       "      <td>fis</td>\n",
       "      <td>DNA-binding transcriptional dual regulator Fis</td>\n",
       "      <td>3411271</td>\n",
       "      <td>3411567</td>\n",
       "      <td>+</td>\n",
       "      <td>dusB;fis</td>\n",
       "      <td>297</td>\n",
       "      <td>Transcription</td>\n",
       "    </tr>\n",
       "    <tr>\n",
       "      <th>b3084</th>\n",
       "      <td>0.095116</td>\n",
       "      <td>rlmG</td>\n",
       "      <td>23S rRNA m&lt;sup&gt;2&lt;/sup&gt;G1835 methyltransferase</td>\n",
       "      <td>3234739</td>\n",
       "      <td>3235875</td>\n",
       "      <td>-</td>\n",
       "      <td>rlmG</td>\n",
       "      <td>1137</td>\n",
       "      <td>Translation, ribosomal structure and biogenesis</td>\n",
       "    </tr>\n",
       "    <tr>\n",
       "      <th>b4469</th>\n",
       "      <td>0.095212</td>\n",
       "      <td>ygiQ</td>\n",
       "      <td>radical SAM superfamily protein YgiQ</td>\n",
       "      <td>3158927</td>\n",
       "      <td>3161146</td>\n",
       "      <td>-</td>\n",
       "      <td>ygiQ</td>\n",
       "      <td>2220</td>\n",
       "      <td>Energy production and conversion</td>\n",
       "    </tr>\n",
       "    <tr>\n",
       "      <th>b2069</th>\n",
       "      <td>0.095916</td>\n",
       "      <td>yegD</td>\n",
       "      <td>HSP70 family protein YegD</td>\n",
       "      <td>2147674</td>\n",
       "      <td>2149026</td>\n",
       "      <td>+</td>\n",
       "      <td>yegD</td>\n",
       "      <td>1353</td>\n",
       "      <td>Posttranslational modification, protein turnov...</td>\n",
       "    </tr>\n",
       "    <tr>\n",
       "      <th>b2081</th>\n",
       "      <td>0.097440</td>\n",
       "      <td>trhP</td>\n",
       "      <td>tRNA wobble base hydroxylation protein TrhP</td>\n",
       "      <td>2165668</td>\n",
       "      <td>2167029</td>\n",
       "      <td>+</td>\n",
       "      <td>trhP</td>\n",
       "      <td>1362</td>\n",
       "      <td>Posttranslational modification, protein turnov...</td>\n",
       "    </tr>\n",
       "    <tr>\n",
       "      <th>b0835</th>\n",
       "      <td>0.097889</td>\n",
       "      <td>rimO</td>\n",
       "      <td>ribosomal protein S12 methylthiotransferase RimO</td>\n",
       "      <td>876710</td>\n",
       "      <td>878035</td>\n",
       "      <td>-</td>\n",
       "      <td>rimO</td>\n",
       "      <td>1326</td>\n",
       "      <td>Translation, ribosomal structure and biogenesis</td>\n",
       "    </tr>\n",
       "    <tr>\n",
       "      <th>b3260</th>\n",
       "      <td>0.099187</td>\n",
       "      <td>dusB</td>\n",
       "      <td>tRNA-dihydrouridine synthase B</td>\n",
       "      <td>3410280</td>\n",
       "      <td>3411245</td>\n",
       "      <td>+</td>\n",
       "      <td>dusB;fis</td>\n",
       "      <td>966</td>\n",
       "      <td>Translation, ribosomal structure and biogenesis</td>\n",
       "    </tr>\n",
       "    <tr>\n",
       "      <th>b1126</th>\n",
       "      <td>0.101260</td>\n",
       "      <td>potA</td>\n",
       "      <td>spermidine preferential ABC transporter ATP bi...</td>\n",
       "      <td>1184458</td>\n",
       "      <td>1185594</td>\n",
       "      <td>-</td>\n",
       "      <td>potD;potC;potB;potA</td>\n",
       "      <td>1137</td>\n",
       "      <td>Amino acid transport and metabolism</td>\n",
       "    </tr>\n",
       "    <tr>\n",
       "      <th>b2014</th>\n",
       "      <td>0.106925</td>\n",
       "      <td>plaP</td>\n",
       "      <td>YEEF-MONOMER</td>\n",
       "      <td>2085704</td>\n",
       "      <td>2087062</td>\n",
       "      <td>-</td>\n",
       "      <td>plaP</td>\n",
       "      <td>1359</td>\n",
       "      <td>Amino acid transport and metabolism</td>\n",
       "    </tr>\n",
       "  </tbody>\n",
       "</table>\n",
       "</div>"
      ],
      "text/plain": [
       "           weight gene_name  \\\n",
       "b1055    0.052977      trhO   \n",
       "b1821    0.053614      mntP   \n",
       "b0661    0.054178      miaB   \n",
       "b3704    0.055265      rnpA   \n",
       "b3778    0.058383       rep   \n",
       "b3184    0.059469      yhbE   \n",
       "b0905    0.060194      ycaO   \n",
       "b1343    0.060353      dbpA   \n",
       "b2344    0.060368      fadL   \n",
       "b3871    0.060565      bipA   \n",
       "b3151    0.060690      yraQ   \n",
       "b2562    0.060693      yfhL   \n",
       "b1133    0.061339      mnmA   \n",
       "b3654    0.062230      xanP   \n",
       "b2517    0.062340      rlmN   \n",
       "b2796    0.063363      sdaC   \n",
       "b1807    0.063776      tsaB   \n",
       "b0142    0.063875      folK   \n",
       "b0807    0.064845      rlmF   \n",
       "b3183    0.065051      obgE   \n",
       "b1722    0.065299      ydiY   \n",
       "b0143    0.066982      pcnB   \n",
       "b2174    0.067454      lpxT   \n",
       "b0423    0.067520      thiI   \n",
       "b1660    0.068965      ydhC   \n",
       "b2156    0.069057      lysP   \n",
       "b1069    0.069567      murJ   \n",
       "b1835    0.072451      rsmF   \n",
       "b1915    0.072791      yecF   \n",
       "b3741    0.073833      mnmG   \n",
       "b1281    0.074360      pyrF   \n",
       "b2576    0.075245      srmB   \n",
       "b2140    0.075590      dusC   \n",
       "b1435    0.075598      rlhA   \n",
       "b0059    0.075698      rapA   \n",
       "b3643_1  0.076135       rph   \n",
       "b1269    0.076594      rluB   \n",
       "b0859    0.078580      rlmC   \n",
       "b3471    0.079389      yhhQ   \n",
       "b0477    0.079532       gsk   \n",
       "b1125    0.080847      potB   \n",
       "b0405    0.083417      queA   \n",
       "b0797    0.084625      rhlE   \n",
       "b4155    0.087543      epmA   \n",
       "b2533    0.089413      suhB   \n",
       "b3261    0.090819       fis   \n",
       "b3084    0.095116      rlmG   \n",
       "b4469    0.095212      ygiQ   \n",
       "b2069    0.095916      yegD   \n",
       "b2081    0.097440      trhP   \n",
       "b0835    0.097889      rimO   \n",
       "b3260    0.099187      dusB   \n",
       "b1126    0.101260      potA   \n",
       "b2014    0.106925      plaP   \n",
       "\n",
       "                                                   product    start     stop  \\\n",
       "b1055                            tRNA U34 hydroxylase TrhO  1116807  1117859   \n",
       "b1821                                        G6999-MONOMER  1905688  1906254   \n",
       "b0661        isopentenyl-adenosine A37 tRNA methylthiolase   693531   694955   \n",
       "b3704                            RNase P protein component  3884493  3884852   \n",
       "b3778                       ATP-dependent DNA helicase Rep  3960677  3962698   \n",
       "b3184                          inner membrane protein YhbE  3331770  3332735   \n",
       "b0905    ribosomal protein S12 methylthiotransferase ac...   954872   956632   \n",
       "b1343                      ATP-dependent RNA helicase DbpA  1409511  1410884   \n",
       "b2344    long-chain fatty acid outer membrane channel /...  2461306  2462646   \n",
       "b3871    ribosome-dependent GTPase, ribosome assembly f...  4058407  4060230   \n",
       "b3151                         permease family protein YraQ  3297098  3298138   \n",
       "b2562      putative 4Fe-4S cluster-containing protein YfhL  2699663  2699923   \n",
       "b1133                        tRNA-specific 2-thiouridylase  1192667  1193773   \n",
       "b3654                                         YICE-MONOMER  3828945  3830336   \n",
       "b2517    23S rRNA m<sup>2</sup>A2503 methyltransferase/...  2643129  2644283   \n",
       "b2796                                         SDAC-MONOMER  2928229  2929518   \n",
       "b1807    N<sup>6</sup>-L-threonylcarbamoyladenine synth...  1890572  1891267   \n",
       "b0142                    H2PTERIDINEPYROPHOSPHOKIN-MONOMER   157253   157732   \n",
       "b0807        23S rRNA m<sup>6</sup>A1618 methyltransferase   842332   843258   \n",
       "b3183                                          GTPase ObgE  3330582  3331754   \n",
       "b1722    acid-inducible putative outer membrane protein...  1805325  1806083   \n",
       "b0143                                 poly(A) polymerase I   157729   159126   \n",
       "b2174           Kdo<sub>2</sub>-lipid A phosphotransferase  2268854  2269567   \n",
       "b0423                     tRNA uridine 4-sulfurtransferase   441549   442997   \n",
       "b1660                            putative transporter YdhC  1739911  1741122   \n",
       "b2156                                         LYSP-MONOMER  2247063  2248532   \n",
       "b1069                               lipid II flippase MurJ  1127839  1129374   \n",
       "b1835        16S rRNA m<sup>5</sup>C1407 methyltransferase  1920223  1921662   \n",
       "b1915               DUF2594 domain-containing protein YecF  1995818  1996042   \n",
       "b3741    5-carboxymethylaminomethyluridine-tRNA synthas...  3923744  3925633   \n",
       "b1281                 orotidine-5'-phosphate decarboxylase  1341921  1342658   \n",
       "b2576                      ATP-dependent RNA helicase SrmB  2712896  2714230   \n",
       "b2140            tRNA-dihydrouridine<sup>16</sup> synthase  2229438  2230385   \n",
       "b1435            23S rRNA 5-hydroxycytidine C2501 synthase  1506781  1508742   \n",
       "b0059    RNA polymerase-binding ATPase and RNAP recycli...    60358    63264   \n",
       "b3643_1                                 truncated RNase PH  3815863  3816549   \n",
       "b1269       23S rRNA pseudouridine<sup>2605</sup> synthase  1326852  1327727   \n",
       "b0859         23S rRNA m<sup>5</sup>U747 methyltransferase   898518   899645   \n",
       "b3471             putative queuosine precursor transporter  3609217  3609882   \n",
       "b0477                             inosine/guanosine kinase   500125   501429   \n",
       "b1125    spermidine preferential ABC transporter membra...  1183617  1184444   \n",
       "b0405                                      EG10812-MONOMER   425011   426081   \n",
       "b0797                      ATP-dependent RNA helicase RhlE   830872   832236   \n",
       "b4155                         EF-P-lysine lysyltransferase  4382643  4383620   \n",
       "b2533                       inositol-phosphate phosphatase  2663442  2664245   \n",
       "b3261       DNA-binding transcriptional dual regulator Fis  3411271  3411567   \n",
       "b3084        23S rRNA m<sup>2</sup>G1835 methyltransferase  3234739  3235875   \n",
       "b4469                 radical SAM superfamily protein YgiQ  3158927  3161146   \n",
       "b2069                            HSP70 family protein YegD  2147674  2149026   \n",
       "b2081          tRNA wobble base hydroxylation protein TrhP  2165668  2167029   \n",
       "b0835     ribosomal protein S12 methylthiotransferase RimO   876710   878035   \n",
       "b3260                       tRNA-dihydrouridine synthase B  3410280  3411245   \n",
       "b1126    spermidine preferential ABC transporter ATP bi...  1184458  1185594   \n",
       "b2014                                         YEEF-MONOMER  2085704  2087062   \n",
       "\n",
       "        strand               operon  length  \\\n",
       "b1055        +                 trhO    1053   \n",
       "b1821        +                 mntP     567   \n",
       "b0661        -                 miaB    1425   \n",
       "b3704        +            rnpA;rpmH     360   \n",
       "b3778        +                  rep    2022   \n",
       "b3184        -  obgE;yhbE;rpmA;rplU     966   \n",
       "b0905        -                 ycaO    1761   \n",
       "b1343        +                 dbpA    1374   \n",
       "b2344        +                 fadL    1341   \n",
       "b3871        +                 bipA    1824   \n",
       "b3151        -                 yraQ    1041   \n",
       "b2562        +                 yfhL     261   \n",
       "b1133        -                 mnmA    1107   \n",
       "b3654        +                 xanP    1392   \n",
       "b2517        -                 rlmN    1155   \n",
       "b2796        +            sdaC;sdaB    1290   \n",
       "b1807        -            tsaB;yeaY     696   \n",
       "b0142        -            folK;pcnB     480   \n",
       "b0807        +                 rlmF     927   \n",
       "b3183        -  obgE;yhbE;rpmA;rplU    1173   \n",
       "b1722        -                 ydiY     759   \n",
       "b0143        -            folK;pcnB    1398   \n",
       "b2174        +            lpxT;yeiR     714   \n",
       "b0423        +                 thiI    1449   \n",
       "b1660        +                 ydhC    1212   \n",
       "b2156        -                 lysP    1470   \n",
       "b1069        +                 murJ    1536   \n",
       "b1835        +                 rsmF    1440   \n",
       "b1915        +                 yecF     225   \n",
       "b3741        -  mnmG;mioC;asnC;rsmG    1890   \n",
       "b1281        +  yciH;pyrF;lapB;lapA     738   \n",
       "b2576        +                 srmB    1335   \n",
       "b2140        -                 dusC     948   \n",
       "b1435        +                 rlhA    1962   \n",
       "b0059        -            rapA;rluA    2907   \n",
       "b3643_1      -             rph;pyrE     687   \n",
       "b1269        +                 rluB     876   \n",
       "b0859        +            rlmC;ybjO    1128   \n",
       "b3471        +                 yhhQ     666   \n",
       "b0477        +                  gsk    1305   \n",
       "b1125        -  potD;potC;potB;potA     828   \n",
       "b0405        +                 queA    1071   \n",
       "b0797        +                 rhlE    1365   \n",
       "b4155        +                 epmA     978   \n",
       "b2533        +                 suhB     804   \n",
       "b3261        +             dusB;fis     297   \n",
       "b3084        -                 rlmG    1137   \n",
       "b4469        -                 ygiQ    2220   \n",
       "b2069        +                 yegD    1353   \n",
       "b2081        +                 trhP    1362   \n",
       "b0835        -                 rimO    1326   \n",
       "b3260        +             dusB;fis     966   \n",
       "b1126        -  potD;potC;potB;potA    1137   \n",
       "b2014        -                 plaP    1359   \n",
       "\n",
       "                                                       cog  \n",
       "b1055                                     Function unknown  \n",
       "b1821                                     Function unknown  \n",
       "b0661      Translation, ribosomal structure and biogenesis  \n",
       "b3704      Translation, ribosomal structure and biogenesis  \n",
       "b3778                Replication, recombination and repair  \n",
       "b3184                  Amino acid transport and metabolism  \n",
       "b0905                                     Function unknown  \n",
       "b1343                Replication, recombination and repair  \n",
       "b2344                       Lipid transport and metabolism  \n",
       "b3871                       Signal transduction mechanisms  \n",
       "b3151                                     Function unknown  \n",
       "b2562                     Energy production and conversion  \n",
       "b1133      Translation, ribosomal structure and biogenesis  \n",
       "b3654                  Nucleotide transport and metabolism  \n",
       "b2517      Translation, ribosomal structure and biogenesis  \n",
       "b2796                  Amino acid transport and metabolism  \n",
       "b1807    Posttranslational modification, protein turnov...  \n",
       "b0142                    Coenzyme transport and metabolism  \n",
       "b0807                                     Function unknown  \n",
       "b3183                                     Function unknown  \n",
       "b1722               Cell wall/membrane/envelope biogenesis  \n",
       "b0143      Translation, ribosomal structure and biogenesis  \n",
       "b2174                       Lipid transport and metabolism  \n",
       "b0423                    Coenzyme transport and metabolism  \n",
       "b1660               Inorganic ion transport and metabolism  \n",
       "b2156                  Amino acid transport and metabolism  \n",
       "b1069                                     Function unknown  \n",
       "b1835      Translation, ribosomal structure and biogenesis  \n",
       "b1915                                     Function unknown  \n",
       "b3741    Cell cycle control, cell division, chromosome ...  \n",
       "b1281                  Nucleotide transport and metabolism  \n",
       "b2576                Replication, recombination and repair  \n",
       "b2140      Translation, ribosomal structure and biogenesis  \n",
       "b1435    Posttranslational modification, protein turnov...  \n",
       "b0059                Replication, recombination and repair  \n",
       "b3643_1    Translation, ribosomal structure and biogenesis  \n",
       "b1269      Translation, ribosomal structure and biogenesis  \n",
       "b0859      Translation, ribosomal structure and biogenesis  \n",
       "b3471                                     Function unknown  \n",
       "b0477                Carbohydrate transport and metabolism  \n",
       "b1125               Inorganic ion transport and metabolism  \n",
       "b0405      Translation, ribosomal structure and biogenesis  \n",
       "b0797                Replication, recombination and repair  \n",
       "b4155      Translation, ribosomal structure and biogenesis  \n",
       "b2533                                    No COG Annotation  \n",
       "b3261                                        Transcription  \n",
       "b3084      Translation, ribosomal structure and biogenesis  \n",
       "b4469                     Energy production and conversion  \n",
       "b2069    Posttranslational modification, protein turnov...  \n",
       "b2081    Posttranslational modification, protein turnov...  \n",
       "b0835      Translation, ribosomal structure and biogenesis  \n",
       "b3260      Translation, ribosomal structure and biogenesis  \n",
       "b1126                  Amino acid transport and metabolism  \n",
       "b2014                  Amino acid transport and metabolism  "
      ]
     },
     "execution_count": 103,
     "metadata": {},
     "output_type": "execute_result"
    }
   ],
   "source": [
    "objs['combined'].show_enriched(147)"
   ]
  },
  {
   "cell_type": "code",
   "execution_count": null,
   "metadata": {},
   "outputs": [],
   "source": []
  }
 ],
 "metadata": {
  "kernelspec": {
   "display_name": "Python 3",
   "language": "python",
   "name": "python3"
  },
  "toc": {
   "base_numbering": 1,
   "nav_menu": {},
   "number_sections": true,
   "sideBar": true,
   "skip_h1_title": false,
   "title_cell": "Table of Contents",
   "title_sidebar": "Contents",
   "toc_cell": true,
   "toc_position": {},
   "toc_section_display": true,
   "toc_window_display": false
  }
 },
 "nbformat": 4,
 "nbformat_minor": 2
}
