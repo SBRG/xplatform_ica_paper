{
 "cells": [
  {
   "cell_type": "markdown",
   "metadata": {
    "toc": true
   },
   "source": [
    "<h1>Table of Contents<span class=\"tocSkip\"></span></h1>\n",
    "<div class=\"toc\"><ul class=\"toc-item\"><li><span><a href=\"#Setup\" data-toc-modified-id=\"Setup-1\"><span class=\"toc-item-num\">1&nbsp;&nbsp;</span>Setup</a></span><ul class=\"toc-item\"><li><span><a href=\"#Load-Dataset\" data-toc-modified-id=\"Load-Dataset-1.1\"><span class=\"toc-item-num\">1.1&nbsp;&nbsp;</span>Load Dataset</a></span></li></ul></li><li><span><a href=\"#Regulon-enrichments\" data-toc-modified-id=\"Regulon-enrichments-2\"><span class=\"toc-item-num\">2&nbsp;&nbsp;</span>Regulon enrichments</a></span></li><li><span><a href=\"#Functional-Enrichments\" data-toc-modified-id=\"Functional-Enrichments-3\"><span class=\"toc-item-num\">3&nbsp;&nbsp;</span>Functional Enrichments</a></span></li><li><span><a href=\"#Combine-Annotations\" data-toc-modified-id=\"Combine-Annotations-4\"><span class=\"toc-item-num\">4&nbsp;&nbsp;</span>Combine Annotations</a></span></li></ul></div>"
   ]
  },
  {
   "cell_type": "code",
   "execution_count": 1,
   "metadata": {},
   "outputs": [],
   "source": [
    "import sys, os\n",
    "sys.path.append('../../scripts/')\n",
    "import matplotlib.pyplot as plt\n",
    "from tqdm.notebook import tqdm\n",
    "import pandas as pd\n",
    "from sklearn.metrics import r2_score\n",
    "from itertools import combinations\n",
    "import numpy as np\n",
    "from scipy import stats\n",
    "from enrichments import *\n",
    "from core import *"
   ]
  },
  {
   "cell_type": "markdown",
   "metadata": {},
   "source": [
    "# Setup"
   ]
  },
  {
   "cell_type": "markdown",
   "metadata": {},
   "source": [
    "## Load Dataset"
   ]
  },
  {
   "cell_type": "code",
   "execution_count": 2,
   "metadata": {},
   "outputs": [],
   "source": [
    "datasets = sorted([x for x in os.listdir(os.path.join(DATA_DIR,'iModulons/'))\n",
    "            if '.' not in x])"
   ]
  },
  {
   "cell_type": "code",
   "execution_count": 3,
   "metadata": {},
   "outputs": [],
   "source": [
    "# Thresholds were obtained from 2_identify_thresholds\n",
    "cutoffs = {'MA-1': 550,\n",
    " 'MA-2': 600,\n",
    " 'MA-3': 350,\n",
    " 'RNAseq-1': 700,\n",
    " 'RNAseq-2': 300,\n",
    " 'combined': 400}"
   ]
  },
  {
   "cell_type": "code",
   "execution_count": 4,
   "metadata": {},
   "outputs": [],
   "source": [
    "class IcaData():\n",
    "    def __init__(self,M,A,X,metadata,cutoff):\n",
    "        self.M = pd.read_csv(M,index_col=0)\n",
    "        self.M.columns = self.M.columns.astype(int)\n",
    "        self.A = pd.read_csv(A,index_col=0)\n",
    "        self.A.index = self.A.index.astype(int)\n",
    "        self.X = pd.read_csv(X,index_col=0)\n",
    "        self.metadata = pd.read_csv(metadata,index_col=0)\n",
    "        self.thresholds = {k:self.get_threshold(k,cutoff) for k in self.M.columns}\n",
    "    \n",
    "    def show_enriched(self,k):\n",
    "        gene_table = gene_info.copy()\n",
    "        gene_table = gene_table.reindex(self.M.index)\n",
    "        in_imod = abs(self.M[k]) > self.thresholds[k]\n",
    "        weights = self.M.loc[in_imod,k]\n",
    "        weights.name = 'weight'\n",
    "        rows = gene_table.loc[in_imod]\n",
    "        final_rows = pd.concat([weights,rows],axis=1)\n",
    "        return final_rows.sort_values('weight')\n",
    "    \n",
    "    def get_threshold(self,k,cutoff):\n",
    "        i=0\n",
    "        genes = abs(self.M[k]).sort_values()\n",
    "        k2,p = stats.normaltest(self.M[k])\n",
    "        while k2 > cutoff:\n",
    "            i -= 1\n",
    "            k2,p = stats.normaltest(self.M.loc[genes.index[:i],k])\n",
    "        imod_genes = genes.iloc[i:]\n",
    "        return np.mean([genes.iloc[i], genes.iloc[i - 1]])\n",
    "\n",
    "def load(dataset):\n",
    "    # Define directories\n",
    "    ds_dir = os.path.join(DATA_DIR,'iModulons',dataset)\n",
    "    \n",
    "    # Define files\n",
    "    X_file = os.path.join(DATA_DIR,'processed_data',dataset+'.csv')\n",
    "    M_file = os.path.join(ds_dir,'M.csv')\n",
    "    A_file = os.path.join(ds_dir,'A.csv')\n",
    "    metadata_file = os.path.join(DATA_DIR,'metadata',dataset+'_metadata.csv')\n",
    "    \n",
    "    return IcaData(M_file,A_file,X_file,metadata_file,cutoffs[dataset])"
   ]
  },
  {
   "cell_type": "code",
   "execution_count": 5,
   "metadata": {},
   "outputs": [
    {
     "data": {
      "application/vnd.jupyter.widget-view+json": {
       "model_id": "f3a1a1f9f14343e3b2f7132d5b6ecb9e",
       "version_major": 2,
       "version_minor": 0
      },
      "text/plain": [
       "HBox(children=(FloatProgress(value=0.0, max=6.0), HTML(value='')))"
      ]
     },
     "metadata": {},
     "output_type": "display_data"
    },
    {
     "name": "stdout",
     "output_type": "stream",
     "text": [
      "\n"
     ]
    }
   ],
   "source": [
    "# Load datasets\n",
    "objs = {}\n",
    "for ds in tqdm(datasets):\n",
    "    objs[ds] = load(ds)"
   ]
  },
  {
   "cell_type": "code",
   "execution_count": 6,
   "metadata": {},
   "outputs": [
    {
     "data": {
      "text/html": [
       "<div>\n",
       "<style scoped>\n",
       "    .dataframe tbody tr th:only-of-type {\n",
       "        vertical-align: middle;\n",
       "    }\n",
       "\n",
       "    .dataframe tbody tr th {\n",
       "        vertical-align: top;\n",
       "    }\n",
       "\n",
       "    .dataframe thead th {\n",
       "        text-align: right;\n",
       "    }\n",
       "</style>\n",
       "<table border=\"1\" class=\"dataframe\">\n",
       "  <thead>\n",
       "    <tr style=\"text-align: right;\">\n",
       "      <th></th>\n",
       "      <th>Samples</th>\n",
       "      <th>Conditions</th>\n",
       "      <th>I-modulons</th>\n",
       "      <th>Mean R2</th>\n",
       "    </tr>\n",
       "  </thead>\n",
       "  <tbody>\n",
       "    <tr>\n",
       "      <th>MA-1</th>\n",
       "      <td>260.0</td>\n",
       "      <td>115.0</td>\n",
       "      <td>103.0</td>\n",
       "      <td>0.970481</td>\n",
       "    </tr>\n",
       "    <tr>\n",
       "      <th>MA-2</th>\n",
       "      <td>124.0</td>\n",
       "      <td>39.0</td>\n",
       "      <td>58.0</td>\n",
       "      <td>0.935839</td>\n",
       "    </tr>\n",
       "    <tr>\n",
       "      <th>MA-3</th>\n",
       "      <td>56.0</td>\n",
       "      <td>20.0</td>\n",
       "      <td>32.0</td>\n",
       "      <td>0.984067</td>\n",
       "    </tr>\n",
       "    <tr>\n",
       "      <th>RNAseq-1</th>\n",
       "      <td>278.0</td>\n",
       "      <td>163.0</td>\n",
       "      <td>91.0</td>\n",
       "      <td>0.974502</td>\n",
       "    </tr>\n",
       "    <tr>\n",
       "      <th>RNAseq-2</th>\n",
       "      <td>84.0</td>\n",
       "      <td>28.0</td>\n",
       "      <td>52.0</td>\n",
       "      <td>0.953760</td>\n",
       "    </tr>\n",
       "    <tr>\n",
       "      <th>combined</th>\n",
       "      <td>802.0</td>\n",
       "      <td>365.0</td>\n",
       "      <td>181.0</td>\n",
       "      <td>0.962257</td>\n",
       "    </tr>\n",
       "  </tbody>\n",
       "</table>\n",
       "</div>"
      ],
      "text/plain": [
       "          Samples  Conditions  I-modulons   Mean R2\n",
       "MA-1        260.0       115.0       103.0  0.970481\n",
       "MA-2        124.0        39.0        58.0  0.935839\n",
       "MA-3         56.0        20.0        32.0  0.984067\n",
       "RNAseq-1    278.0       163.0        91.0  0.974502\n",
       "RNAseq-2     84.0        28.0        52.0  0.953760\n",
       "combined    802.0       365.0       181.0  0.962257"
      ]
     },
     "execution_count": 6,
     "metadata": {},
     "output_type": "execute_result"
    }
   ],
   "source": [
    "summary_table = pd.DataFrame(dtype=int)\n",
    "for ds in datasets:\n",
    "    summary_table.loc[ds,'Samples'] = len(objs[ds].metadata)\n",
    "    summary_table.loc[ds,'Conditions'] = len(objs[ds].metadata[['project_id','condition_id']].drop_duplicates())\n",
    "    summary_table.loc[ds,'I-modulons'] = len(objs[ds].A.index)\n",
    "    \n",
    "    r2_list = []\n",
    "    for name,group in objs[ds].metadata.groupby(['project_id','condition_id']):\n",
    "        for i1,i2 in combinations(group.index,2):\n",
    "            r2_list.append(r2_score(objs[ds].X[i1],objs[ds].X[i2]))\n",
    "    \n",
    "    summary_table.loc[ds,'Mean R2'] = np.mean(r2_list)\n",
    "summary_table"
   ]
  },
  {
   "cell_type": "markdown",
   "metadata": {},
   "source": [
    "# Regulon enrichments"
   ]
  },
  {
   "cell_type": "code",
   "execution_count": 7,
   "metadata": {},
   "outputs": [],
   "source": [
    "import warnings\n",
    "warnings.simplefilter('ignore',category=FutureWarning)"
   ]
  },
  {
   "cell_type": "code",
   "execution_count": 8,
   "metadata": {},
   "outputs": [],
   "source": [
    "def get_enrichments(ica_data):\n",
    "    all_genes = set(ica_data.M.index)\n",
    "    list2struct = []\n",
    "    \n",
    "    # Get TF enrichments for each component\n",
    "    for k in tqdm(ica_data.M.columns):\n",
    "        genes = set(ica_data.show_enriched(k).index)\n",
    "        df = compute_enrichments(genes,all_genes,trn,fdr=1e-5)\n",
    "        df['component'] = k\n",
    "        df.index.name = 'description'\n",
    "        df = df.reset_index(drop=False)\n",
    "        list2struct.append(df)\n",
    "        \n",
    "    DF_enrich = pd.concat(list2struct).reset_index(drop=True)\n",
    "    \n",
    "    return DF_enrich"
   ]
  },
  {
   "cell_type": "code",
   "execution_count": 9,
   "metadata": {},
   "outputs": [
    {
     "data": {
      "application/vnd.jupyter.widget-view+json": {
       "model_id": "5ab37c9a6b2643cfb098a0a28dd18b75",
       "version_major": 2,
       "version_minor": 0
      },
      "text/plain": [
       "HBox(children=(FloatProgress(value=0.0, max=103.0), HTML(value='')))"
      ]
     },
     "metadata": {},
     "output_type": "display_data"
    },
    {
     "name": "stdout",
     "output_type": "stream",
     "text": [
      "\n"
     ]
    },
    {
     "data": {
      "application/vnd.jupyter.widget-view+json": {
       "model_id": "416f7338fc3e427180f82b5c4dc3ad8c",
       "version_major": 2,
       "version_minor": 0
      },
      "text/plain": [
       "HBox(children=(FloatProgress(value=0.0, max=58.0), HTML(value='')))"
      ]
     },
     "metadata": {},
     "output_type": "display_data"
    },
    {
     "name": "stdout",
     "output_type": "stream",
     "text": [
      "\n"
     ]
    },
    {
     "data": {
      "application/vnd.jupyter.widget-view+json": {
       "model_id": "f67ef9cc93074db89451c05f52c61878",
       "version_major": 2,
       "version_minor": 0
      },
      "text/plain": [
       "HBox(children=(FloatProgress(value=0.0, max=32.0), HTML(value='')))"
      ]
     },
     "metadata": {},
     "output_type": "display_data"
    },
    {
     "name": "stdout",
     "output_type": "stream",
     "text": [
      "\n"
     ]
    },
    {
     "data": {
      "application/vnd.jupyter.widget-view+json": {
       "model_id": "e1e641bde16b4228a95f16ef39941950",
       "version_major": 2,
       "version_minor": 0
      },
      "text/plain": [
       "HBox(children=(FloatProgress(value=0.0, max=91.0), HTML(value='')))"
      ]
     },
     "metadata": {},
     "output_type": "display_data"
    },
    {
     "name": "stdout",
     "output_type": "stream",
     "text": [
      "\n"
     ]
    },
    {
     "data": {
      "application/vnd.jupyter.widget-view+json": {
       "model_id": "41ca647a1ef64db28bad13028819eeea",
       "version_major": 2,
       "version_minor": 0
      },
      "text/plain": [
       "HBox(children=(FloatProgress(value=0.0, max=52.0), HTML(value='')))"
      ]
     },
     "metadata": {},
     "output_type": "display_data"
    },
    {
     "name": "stdout",
     "output_type": "stream",
     "text": [
      "\n"
     ]
    },
    {
     "data": {
      "application/vnd.jupyter.widget-view+json": {
       "model_id": "f9e27b677dc84916b106a0605003d5c7",
       "version_major": 2,
       "version_minor": 0
      },
      "text/plain": [
       "HBox(children=(FloatProgress(value=0.0, max=181.0), HTML(value='')))"
      ]
     },
     "metadata": {},
     "output_type": "display_data"
    },
    {
     "name": "stdout",
     "output_type": "stream",
     "text": [
      "\n"
     ]
    }
   ],
   "source": [
    "list2struct = []\n",
    "for ds in datasets:\n",
    "    df_enrich = get_enrichments(objs[ds])\n",
    "    df_enrich['dataset'] = ds\n",
    "    list2struct.append(df_enrich)\n",
    "\n",
    "DF_all_enrich = pd.concat(list2struct).reset_index(drop=True)"
   ]
  },
  {
   "cell_type": "code",
   "execution_count": 10,
   "metadata": {
    "code_folding": [],
    "scrolled": false
   },
   "outputs": [],
   "source": [
    "DF_reg_enrich = DF_all_enrich.sort_values(['dataset','component',\n",
    "                                            'pvalue','precision']).reset_index(drop=True)\n",
    "DF_reg_enrich['type'] = 'regulatory'"
   ]
  },
  {
   "cell_type": "code",
   "execution_count": 11,
   "metadata": {},
   "outputs": [],
   "source": [
    "col_order = ['dataset','component','type','description','pvalue','qvalue','precision','recall','f1score','TP']\n",
    "DF_reg_enrich = DF_reg_enrich[col_order]"
   ]
  },
  {
   "cell_type": "code",
   "execution_count": 12,
   "metadata": {},
   "outputs": [
    {
     "data": {
      "text/html": [
       "<div>\n",
       "<style scoped>\n",
       "    .dataframe tbody tr th:only-of-type {\n",
       "        vertical-align: middle;\n",
       "    }\n",
       "\n",
       "    .dataframe tbody tr th {\n",
       "        vertical-align: top;\n",
       "    }\n",
       "\n",
       "    .dataframe thead th {\n",
       "        text-align: right;\n",
       "    }\n",
       "</style>\n",
       "<table border=\"1\" class=\"dataframe\">\n",
       "  <thead>\n",
       "    <tr style=\"text-align: right;\">\n",
       "      <th></th>\n",
       "      <th>dataset</th>\n",
       "      <th>component</th>\n",
       "      <th>type</th>\n",
       "      <th>description</th>\n",
       "      <th>pvalue</th>\n",
       "      <th>qvalue</th>\n",
       "      <th>precision</th>\n",
       "      <th>recall</th>\n",
       "      <th>f1score</th>\n",
       "      <th>TP</th>\n",
       "    </tr>\n",
       "  </thead>\n",
       "  <tbody>\n",
       "    <tr>\n",
       "      <th>0</th>\n",
       "      <td>MA-1</td>\n",
       "      <td>0</td>\n",
       "      <td>regulatory</td>\n",
       "      <td>arcA</td>\n",
       "      <td>2.993701e-12</td>\n",
       "      <td>8.232678e-10</td>\n",
       "      <td>0.900000</td>\n",
       "      <td>0.055556</td>\n",
       "      <td>0.104651</td>\n",
       "      <td>9.0</td>\n",
       "    </tr>\n",
       "    <tr>\n",
       "      <th>1</th>\n",
       "      <td>MA-1</td>\n",
       "      <td>0</td>\n",
       "      <td>regulatory</td>\n",
       "      <td>fur</td>\n",
       "      <td>1.497576e-11</td>\n",
       "      <td>2.059167e-09</td>\n",
       "      <td>0.800000</td>\n",
       "      <td>0.072072</td>\n",
       "      <td>0.132231</td>\n",
       "      <td>8.0</td>\n",
       "    </tr>\n",
       "    <tr>\n",
       "      <th>2</th>\n",
       "      <td>MA-1</td>\n",
       "      <td>0</td>\n",
       "      <td>regulatory</td>\n",
       "      <td>fnr</td>\n",
       "      <td>2.574975e-08</td>\n",
       "      <td>2.360394e-06</td>\n",
       "      <td>0.800000</td>\n",
       "      <td>0.028674</td>\n",
       "      <td>0.055363</td>\n",
       "      <td>8.0</td>\n",
       "    </tr>\n",
       "    <tr>\n",
       "      <th>3</th>\n",
       "      <td>MA-1</td>\n",
       "      <td>0</td>\n",
       "      <td>regulatory</td>\n",
       "      <td>crp</td>\n",
       "      <td>4.685148e-08</td>\n",
       "      <td>3.221039e-06</td>\n",
       "      <td>0.900000</td>\n",
       "      <td>0.019149</td>\n",
       "      <td>0.037500</td>\n",
       "      <td>9.0</td>\n",
       "    </tr>\n",
       "    <tr>\n",
       "      <th>4</th>\n",
       "      <td>MA-1</td>\n",
       "      <td>1</td>\n",
       "      <td>regulatory</td>\n",
       "      <td>fnr</td>\n",
       "      <td>2.368387e-19</td>\n",
       "      <td>6.513065e-17</td>\n",
       "      <td>0.538462</td>\n",
       "      <td>0.100358</td>\n",
       "      <td>0.169184</td>\n",
       "      <td>28.0</td>\n",
       "    </tr>\n",
       "  </tbody>\n",
       "</table>\n",
       "</div>"
      ],
      "text/plain": [
       "  dataset  component        type description        pvalue        qvalue  \\\n",
       "0    MA-1          0  regulatory        arcA  2.993701e-12  8.232678e-10   \n",
       "1    MA-1          0  regulatory         fur  1.497576e-11  2.059167e-09   \n",
       "2    MA-1          0  regulatory         fnr  2.574975e-08  2.360394e-06   \n",
       "3    MA-1          0  regulatory         crp  4.685148e-08  3.221039e-06   \n",
       "4    MA-1          1  regulatory         fnr  2.368387e-19  6.513065e-17   \n",
       "\n",
       "   precision    recall   f1score    TP  \n",
       "0   0.900000  0.055556  0.104651   9.0  \n",
       "1   0.800000  0.072072  0.132231   8.0  \n",
       "2   0.800000  0.028674  0.055363   8.0  \n",
       "3   0.900000  0.019149  0.037500   9.0  \n",
       "4   0.538462  0.100358  0.169184  28.0  "
      ]
     },
     "execution_count": 12,
     "metadata": {},
     "output_type": "execute_result"
    }
   ],
   "source": [
    "DF_reg_enrich.head()"
   ]
  },
  {
   "cell_type": "code",
   "execution_count": 13,
   "metadata": {},
   "outputs": [],
   "source": [
    "DF_reg_enrich.drop_duplicates(['dataset','component']).to_csv(os.path.join(DATA_DIR,'iModulons','1TF_enrichments.csv'))"
   ]
  },
  {
   "cell_type": "code",
   "execution_count": 14,
   "metadata": {},
   "outputs": [],
   "source": [
    "DF_reg_enrich.to_csv(os.path.join(DATA_DIR,'iModulons','all_reg_enrichments.csv'))"
   ]
  },
  {
   "cell_type": "markdown",
   "metadata": {},
   "source": [
    "# Functional Enrichments"
   ]
  },
  {
   "cell_type": "code",
   "execution_count": 15,
   "metadata": {},
   "outputs": [],
   "source": [
    "DF_GO = pd.read_csv(os.path.join(GENE_DIR,'DF_GO.csv'),index_col=0)"
   ]
  },
  {
   "cell_type": "code",
   "execution_count": 16,
   "metadata": {},
   "outputs": [],
   "source": [
    "go_dict = {}\n",
    "for name,group in DF_GO.groupby('go_name'):\n",
    "    genes = set(group.bnumber)\n",
    "    go_dict[name] = genes"
   ]
  },
  {
   "cell_type": "code",
   "execution_count": 17,
   "metadata": {},
   "outputs": [],
   "source": [
    "def get_go_enrichments(ica_data):\n",
    "    all_genes = set(ica_data.M.index)\n",
    "    enrich_list = []\n",
    "    for k in tqdm(ica_data.M.columns):\n",
    "        ic_genes = set(ica_data.show_enriched(k).index)\n",
    "        \n",
    "        list2struct = []\n",
    "        for go,go_genes in go_dict.items():\n",
    "            ((tp,fp),(fn,tn)) = contingency(go_genes,ic_genes,all_genes)\n",
    "            odds,pval = stats.fisher_exact(((tp,fp),(fn,tn)),alternative='greater')\n",
    "            if len(ic_genes) > 0:\n",
    "                list2struct.append([go,k,tp,tp/len(ic_genes),tp/len(go_genes),pval])\n",
    "            else:\n",
    "                list2struct.append([go,k,tp,0,0,pval])\n",
    "        df_pvals = pd.DataFrame(list2struct,columns = ['description','component','TP',\n",
    "                                                       'precision','recall','pvalue'])\n",
    "        enrich_list.append(FDR(df_pvals,.01))\n",
    "    go_enrichments = pd.concat(enrich_list).reset_index(drop=True)\n",
    "    go_enrichments.component = go_enrichments.component.astype(int)\n",
    "    return go_enrichments"
   ]
  },
  {
   "cell_type": "code",
   "execution_count": 18,
   "metadata": {
    "scrolled": false
   },
   "outputs": [
    {
     "data": {
      "application/vnd.jupyter.widget-view+json": {
       "model_id": "2f7b4c4deb3c450baac1bf7d8c59f92d",
       "version_major": 2,
       "version_minor": 0
      },
      "text/plain": [
       "HBox(children=(FloatProgress(value=0.0, max=103.0), HTML(value='')))"
      ]
     },
     "metadata": {},
     "output_type": "display_data"
    },
    {
     "name": "stdout",
     "output_type": "stream",
     "text": [
      "\n"
     ]
    },
    {
     "data": {
      "application/vnd.jupyter.widget-view+json": {
       "model_id": "5c0d986575cf44c8ad4f7be1bc249b1d",
       "version_major": 2,
       "version_minor": 0
      },
      "text/plain": [
       "HBox(children=(FloatProgress(value=0.0, max=58.0), HTML(value='')))"
      ]
     },
     "metadata": {},
     "output_type": "display_data"
    },
    {
     "name": "stdout",
     "output_type": "stream",
     "text": [
      "\n"
     ]
    },
    {
     "data": {
      "application/vnd.jupyter.widget-view+json": {
       "model_id": "7a5f0a02681a47c0926f78df588e9138",
       "version_major": 2,
       "version_minor": 0
      },
      "text/plain": [
       "HBox(children=(FloatProgress(value=0.0, max=32.0), HTML(value='')))"
      ]
     },
     "metadata": {},
     "output_type": "display_data"
    },
    {
     "name": "stdout",
     "output_type": "stream",
     "text": [
      "\n"
     ]
    },
    {
     "data": {
      "application/vnd.jupyter.widget-view+json": {
       "model_id": "f22329f1740f44788c6698114a2f5a59",
       "version_major": 2,
       "version_minor": 0
      },
      "text/plain": [
       "HBox(children=(FloatProgress(value=0.0, max=91.0), HTML(value='')))"
      ]
     },
     "metadata": {},
     "output_type": "display_data"
    },
    {
     "name": "stdout",
     "output_type": "stream",
     "text": [
      "\n"
     ]
    },
    {
     "data": {
      "application/vnd.jupyter.widget-view+json": {
       "model_id": "8b7d5e5c0abe4bb69bf6cb26f9a41ecf",
       "version_major": 2,
       "version_minor": 0
      },
      "text/plain": [
       "HBox(children=(FloatProgress(value=0.0, max=52.0), HTML(value='')))"
      ]
     },
     "metadata": {},
     "output_type": "display_data"
    },
    {
     "name": "stdout",
     "output_type": "stream",
     "text": [
      "\n"
     ]
    },
    {
     "data": {
      "application/vnd.jupyter.widget-view+json": {
       "model_id": "2075f72c0610432e9a45c7f74055063d",
       "version_major": 2,
       "version_minor": 0
      },
      "text/plain": [
       "HBox(children=(FloatProgress(value=0.0, max=181.0), HTML(value='')))"
      ]
     },
     "metadata": {},
     "output_type": "display_data"
    },
    {
     "name": "stdout",
     "output_type": "stream",
     "text": [
      "\n"
     ]
    }
   ],
   "source": [
    "list2struct = []\n",
    "\n",
    "for ds in datasets:\n",
    "    df = get_go_enrichments(objs[ds])\n",
    "    df['dataset'] = ds\n",
    "    list2struct.append(df)\n",
    "    \n",
    "DF_all_go = pd.concat(list2struct).reset_index(drop=True)"
   ]
  },
  {
   "cell_type": "code",
   "execution_count": 19,
   "metadata": {
    "scrolled": false
   },
   "outputs": [],
   "source": [
    "DF_go_enrich = DF_all_go.sort_values(['dataset','component',\n",
    "                                      'pvalue'])\n",
    "DF_go_enrich['f1score'] = 2*DF_go_enrich.precision*DF_go_enrich.recall/(DF_go_enrich.precision+DF_go_enrich.recall)"
   ]
  },
  {
   "cell_type": "code",
   "execution_count": 20,
   "metadata": {},
   "outputs": [],
   "source": [
    "DF_go_enrich['type'] = 'functional'\n",
    "col_order = ['dataset','component','type','description','pvalue','qvalue','precision','recall','f1score','TP']\n",
    "DF_go_enrich = DF_go_enrich[col_order]"
   ]
  },
  {
   "cell_type": "code",
   "execution_count": 21,
   "metadata": {},
   "outputs": [
    {
     "data": {
      "text/html": [
       "<div>\n",
       "<style scoped>\n",
       "    .dataframe tbody tr th:only-of-type {\n",
       "        vertical-align: middle;\n",
       "    }\n",
       "\n",
       "    .dataframe tbody tr th {\n",
       "        vertical-align: top;\n",
       "    }\n",
       "\n",
       "    .dataframe thead th {\n",
       "        text-align: right;\n",
       "    }\n",
       "</style>\n",
       "<table border=\"1\" class=\"dataframe\">\n",
       "  <thead>\n",
       "    <tr style=\"text-align: right;\">\n",
       "      <th></th>\n",
       "      <th>dataset</th>\n",
       "      <th>component</th>\n",
       "      <th>type</th>\n",
       "      <th>description</th>\n",
       "      <th>pvalue</th>\n",
       "      <th>qvalue</th>\n",
       "      <th>precision</th>\n",
       "      <th>recall</th>\n",
       "      <th>f1score</th>\n",
       "      <th>TP</th>\n",
       "    </tr>\n",
       "  </thead>\n",
       "  <tbody>\n",
       "    <tr>\n",
       "      <th>0</th>\n",
       "      <td>MA-1</td>\n",
       "      <td>0</td>\n",
       "      <td>functional</td>\n",
       "      <td>tricarboxylic acid cycle</td>\n",
       "      <td>1.024288e-10</td>\n",
       "      <td>3.410877e-07</td>\n",
       "      <td>0.5</td>\n",
       "      <td>0.333333</td>\n",
       "      <td>0.400000</td>\n",
       "      <td>5</td>\n",
       "    </tr>\n",
       "    <tr>\n",
       "      <th>1</th>\n",
       "      <td>MA-1</td>\n",
       "      <td>0</td>\n",
       "      <td>functional</td>\n",
       "      <td>aerobic respiration</td>\n",
       "      <td>2.308688e-07</td>\n",
       "      <td>3.843966e-04</td>\n",
       "      <td>0.4</td>\n",
       "      <td>0.166667</td>\n",
       "      <td>0.235294</td>\n",
       "      <td>4</td>\n",
       "    </tr>\n",
       "    <tr>\n",
       "      <th>2</th>\n",
       "      <td>MA-1</td>\n",
       "      <td>0</td>\n",
       "      <td>functional</td>\n",
       "      <td>electron transfer activity</td>\n",
       "      <td>3.449666e-06</td>\n",
       "      <td>3.829130e-03</td>\n",
       "      <td>0.4</td>\n",
       "      <td>0.086957</td>\n",
       "      <td>0.142857</td>\n",
       "      <td>4</td>\n",
       "    </tr>\n",
       "    <tr>\n",
       "      <th>3</th>\n",
       "      <td>MA-1</td>\n",
       "      <td>0</td>\n",
       "      <td>functional</td>\n",
       "      <td>oxoglutarate dehydrogenase complex</td>\n",
       "      <td>5.979860e-06</td>\n",
       "      <td>3.982587e-03</td>\n",
       "      <td>0.2</td>\n",
       "      <td>1.000000</td>\n",
       "      <td>0.333333</td>\n",
       "      <td>2</td>\n",
       "    </tr>\n",
       "    <tr>\n",
       "      <th>4</th>\n",
       "      <td>MA-1</td>\n",
       "      <td>0</td>\n",
       "      <td>functional</td>\n",
       "      <td>succinate-CoA ligase complex (ADP-forming)</td>\n",
       "      <td>5.979860e-06</td>\n",
       "      <td>3.982587e-03</td>\n",
       "      <td>0.2</td>\n",
       "      <td>1.000000</td>\n",
       "      <td>0.333333</td>\n",
       "      <td>2</td>\n",
       "    </tr>\n",
       "  </tbody>\n",
       "</table>\n",
       "</div>"
      ],
      "text/plain": [
       "  dataset  component        type                                 description  \\\n",
       "0    MA-1          0  functional                    tricarboxylic acid cycle   \n",
       "1    MA-1          0  functional                         aerobic respiration   \n",
       "2    MA-1          0  functional                  electron transfer activity   \n",
       "3    MA-1          0  functional          oxoglutarate dehydrogenase complex   \n",
       "4    MA-1          0  functional  succinate-CoA ligase complex (ADP-forming)   \n",
       "\n",
       "         pvalue        qvalue  precision    recall   f1score  TP  \n",
       "0  1.024288e-10  3.410877e-07        0.5  0.333333  0.400000   5  \n",
       "1  2.308688e-07  3.843966e-04        0.4  0.166667  0.235294   4  \n",
       "2  3.449666e-06  3.829130e-03        0.4  0.086957  0.142857   4  \n",
       "3  5.979860e-06  3.982587e-03        0.2  1.000000  0.333333   2  \n",
       "4  5.979860e-06  3.982587e-03        0.2  1.000000  0.333333   2  "
      ]
     },
     "execution_count": 21,
     "metadata": {},
     "output_type": "execute_result"
    }
   ],
   "source": [
    "DF_go_enrich.head()"
   ]
  },
  {
   "cell_type": "code",
   "execution_count": 22,
   "metadata": {},
   "outputs": [],
   "source": [
    "DF_go_enrich.drop_duplicates(['dataset','component']).to_csv(os.path.join(DATA_DIR,'iModulons','GO_enrichments.csv'))"
   ]
  },
  {
   "cell_type": "code",
   "execution_count": 23,
   "metadata": {},
   "outputs": [],
   "source": [
    "DF_go_enrich.to_csv(os.path.join(DATA_DIR,'iModulons','all_GO_enrichments.csv'))"
   ]
  },
  {
   "cell_type": "markdown",
   "metadata": {},
   "source": [
    "# Combine Annotations"
   ]
  },
  {
   "cell_type": "code",
   "execution_count": 24,
   "metadata": {},
   "outputs": [],
   "source": [
    "DF_reg_enrich = pd.read_csv(os.path.join(DATA_DIR,'iModulons','1TF_enrichments.csv'),index_col=0)\n",
    "DF_go_enrich = pd.read_csv(os.path.join(DATA_DIR,'iModulons','GO_enrichments.csv'),index_col=0)"
   ]
  },
  {
   "cell_type": "code",
   "execution_count": 25,
   "metadata": {
    "scrolled": false
   },
   "outputs": [],
   "source": [
    "# Combine regulatory and GO enrichments\n",
    "DF_categories = pd.concat([DF_reg_enrich,DF_go_enrich]).sort_values(['dataset','component','qvalue'])\n",
    "\n",
    "# Add names\n",
    "DF_categories['name'] = DF_categories.dataset.str.cat(DF_categories.component.astype(str),sep='_')\n",
    "\n",
    "# Filter out GO enrichments when regulatory enrichment exists\n",
    "DF_categories = DF_categories.sort_values(['dataset','component','type','qvalue'],ascending=[1,1,0,1]).drop_duplicates(['dataset','component'])\n",
    "\n",
    "# Reorganize columns\n",
    "col_order = ['dataset','component','type','description','pvalue','qvalue','precision','recall','f1score','TP']\n",
    "DF_categories = DF_categories.set_index('name')[col_order]\n",
    "\n",
    "# Add empty rows for uncharacterized comps\n",
    "other_comps = []\n",
    "idx_list = []\n",
    "for ds in datasets:\n",
    "    for k in objs[ds].M.columns:\n",
    "        idx = ds+'_'+str(k)\n",
    "        if idx not in DF_categories.index:\n",
    "            idx_list.append(idx)\n",
    "            other_comps.append([ds,k,'uncharacterized']+[None]*7)\n",
    "DF_other = pd.DataFrame(other_comps,columns=DF_categories.columns,index=idx_list)\n",
    "\n",
    "DF_categories = pd.concat([DF_categories,DF_other]).sort_values(['dataset','component'])"
   ]
  },
  {
   "cell_type": "code",
   "execution_count": 26,
   "metadata": {},
   "outputs": [],
   "source": [
    "DF_categories.to_csv(os.path.join(DATA_DIR,'iModulons','categories.csv'))"
   ]
  },
  {
   "cell_type": "code",
   "execution_count": null,
   "metadata": {},
   "outputs": [],
   "source": []
  }
 ],
 "metadata": {
  "kernelspec": {
   "display_name": "Python 3",
   "language": "python",
   "name": "python3"
  },
  "language_info": {
   "codemirror_mode": {
    "name": "ipython",
    "version": 3
   },
   "file_extension": ".py",
   "mimetype": "text/x-python",
   "name": "python",
   "nbconvert_exporter": "python",
   "pygments_lexer": "ipython3",
   "version": "3.8.2"
  },
  "toc": {
   "base_numbering": 1,
   "nav_menu": {},
   "number_sections": true,
   "sideBar": true,
   "skip_h1_title": false,
   "title_cell": "Table of Contents",
   "title_sidebar": "Contents",
   "toc_cell": true,
   "toc_position": {},
   "toc_section_display": true,
   "toc_window_display": false
  }
 },
 "nbformat": 4,
 "nbformat_minor": 2
}
